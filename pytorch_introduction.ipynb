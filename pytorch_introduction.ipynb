{
 "cells": [
  {
   "cell_type": "markdown",
   "metadata": {
    "slideshow": {
     "slide_type": "slide"
    }
   },
   "source": [
    "# Introduction to\n",
    "![](pytorch-logo-dark.svg)\n",
    "## Thomas Viehmann, MathInf GmbH\n",
    "## [3rd Advanced Course on Data Science and Machine Learning](https://acdl2020.icas.xyz/)"
   ]
  },
  {
   "cell_type": "code",
   "execution_count": 1,
   "metadata": {
    "slideshow": {
     "slide_type": "-"
    }
   },
   "outputs": [],
   "source": [
    "import torch"
   ]
  },
  {
   "cell_type": "code",
   "execution_count": 2,
   "metadata": {
    "slideshow": {
     "slide_type": "skip"
    }
   },
   "outputs": [],
   "source": [
    "%matplotlib inline\n",
    "from matplotlib import pyplot\n",
    "import numpy\n",
    "\n",
    "torch._C._jit_set_profiling_executor(False)\n",
    "torch._C._jit_set_profiling_mode(False)\n",
    "torch._C._jit_override_can_fuse_on_gpu(True)\n",
    "torch._C._jit_set_texpr_fuser_enabled(False)\n"
   ]
  },
  {
   "cell_type": "markdown",
   "metadata": {
    "slideshow": {
     "slide_type": "slide"
    }
   },
   "source": [
    "# Hello\n",
    "\n",
    "I'm Thomas Viehmann.\n",
    "\n",
    "I founded MathInf GmbH, a boutique research and development consultancy & PyTorch training company\n",
    "\n",
    "<img src=\"deep-learning-thumbnail.png\"  style=\"width: 200px; float: right;\" />\n",
    "\n",
    "\n",
    "I'm a PyTorch core developer, and with ~140 patches one of the most prolific independent contributors to PyTorch\n",
    "\n",
    "With Eli Stevens and Luca Antiga, I wrote [Deep Learning with PyTorch](https://pytorch.org/deep-learning-with-pytorch), currently available for free download from PyTorch.org.\n",
    "\n",
    "\n",
    "Background: PhD in pen and paper Mathematics, been an Actuary & Consultant for 10 years, Debian Developer emeritus"
   ]
  },
  {
   "cell_type": "markdown",
   "metadata": {
    "slideshow": {
     "slide_type": "slide"
    }
   },
   "source": [
    "# Plan\n",
    "\n",
    "Conundrum: Introduction to PyTorch @ Advanced Course on Data Science and Machine Learning\n",
    "\n",
    "We take a tour of PyTorch, nominally from 0, but we put best practices and pitfalls into the spotlight.\n",
    "- Tensors\n",
    "- Functions\n",
    "- Autograd\n",
    "- Models\n",
    "- Optimizers / Data\n",
    "- Excursion: Efficiency and Benchmarking\n",
    "- Beyond Python / JIT\n",
    "- All of this is in Jupyter: https://github.com/t-vi/acdl2020/ has the notebook\n",
    "\n",
    "Your favourite topic?"
   ]
  },
  {
   "cell_type": "markdown",
   "metadata": {
    "slideshow": {
     "slide_type": "slide"
    }
   },
   "source": [
    "# PyTorch is ... Tensors\n",
    "\n",
    "At the heart of PyTorch is the Tensor data type. It is a multidimensional array.\n",
    "\n",
    "When we speak of the dimension of tensors, it is the number of axes (or, in PyTorch, dimensions) - so dimension is in the sense of arrays, not the mathematical one.\n",
    "\n",
    "Tensors can be 0d (i.e. scalars - single numbers), 1d (vectors), 2d (matrices), 3d..."
   ]
  },
  {
   "cell_type": "code",
   "execution_count": 77,
   "metadata": {},
   "outputs": [
    {
     "data": {
      "text/plain": [
       "tensor([[0.7071, 1.4142, 1.6180],\n",
       "        [0.8346, 2.7183, 3.1416]])"
      ]
     },
     "execution_count": 77,
     "metadata": {},
     "output_type": "execute_result"
    }
   ],
   "source": [
    "t = torch.tensor([[0.7071, 1.4142, 1.6180],\n",
    "                  [0.8346, 2.7183, 3.1416]])\n",
    "t"
   ]
  },
  {
   "cell_type": "markdown",
   "metadata": {
    "slideshow": {
     "slide_type": "slide"
    }
   },
   "source": [
    "## Tensors are arrays\n",
    "Tensors have a shape (the size of each dimension):\n"
   ]
  },
  {
   "cell_type": "code",
   "execution_count": 78,
   "metadata": {},
   "outputs": [
    {
     "data": {
      "text/plain": [
       "(2, torch.Size([2, 3]))"
      ]
     },
     "execution_count": 78,
     "metadata": {},
     "output_type": "execute_result"
    }
   ],
   "source": [
    "t.dim(), t.shape"
   ]
  },
  {
   "cell_type": "markdown",
   "metadata": {},
   "source": [
    "Indexing - also with assignments - works as expected. Use .item() to get numbers from tensors."
   ]
  },
  {
   "cell_type": "code",
   "execution_count": 79,
   "metadata": {},
   "outputs": [
    {
     "data": {
      "text/plain": [
       "tensor(3.1416)"
      ]
     },
     "execution_count": 79,
     "metadata": {},
     "output_type": "execute_result"
    }
   ],
   "source": [
    "t[1, 2]"
   ]
  },
  {
   "cell_type": "code",
   "execution_count": 80,
   "metadata": {},
   "outputs": [
    {
     "data": {
      "text/plain": [
       "(tensor([[0.7071, 1.4142, 1.6180],\n",
       "         [0.8346, 2.7183, 3.1416]]),\n",
       " 3.1415927410125732)"
      ]
     },
     "execution_count": 80,
     "metadata": {},
     "output_type": "execute_result"
    }
   ],
   "source": [
    "t[1, 2] = 3.141592653589793\n",
    "t, t[1, 2].item()"
   ]
  },
  {
   "cell_type": "markdown",
   "metadata": {
    "slideshow": {
     "slide_type": "slide"
    }
   },
   "source": [
    "\"Advanced indexing\" with masks also works"
   ]
  },
  {
   "cell_type": "code",
   "execution_count": 81,
   "metadata": {},
   "outputs": [
    {
     "data": {
      "text/plain": [
       "tensor([[0.0000, 1.4142, 1.6180],\n",
       "        [0.0000, 2.7183, 3.1416]])"
      ]
     },
     "execution_count": 81,
     "metadata": {},
     "output_type": "execute_result"
    }
   ],
   "source": [
    "t[t < 1] = 0\n",
    "t"
   ]
  },
  {
   "cell_type": "markdown",
   "metadata": {
    "slideshow": {
     "slide_type": "-"
    }
   },
   "source": [
    "so does slicing"
   ]
  },
  {
   "cell_type": "code",
   "execution_count": 85,
   "metadata": {},
   "outputs": [
    {
     "data": {
      "text/plain": [
       "(tensor([[1.4142, 1.6180],\n",
       "         [2.7183, 3.1416]]),\n",
       " tensor([[0.0000, 1.6180],\n",
       "         [0.0000, 3.1416]]),\n",
       " tensor([3.1416]))"
      ]
     },
     "execution_count": 85,
     "metadata": {},
     "output_type": "execute_result"
    }
   ],
   "source": [
    "t[:, 1:], t[:, ::2], t[1, 2, None]"
   ]
  },
  {
   "cell_type": "markdown",
   "metadata": {
    "slideshow": {
     "slide_type": "slide"
    }
   },
   "source": [
    "Tensors always hold elements (numbers) of a given scalar type, the \"data type\" or dtype.\n",
    "For PyTorch (with its GPU focus), `float32` is perhaps the most common dtype.\n",
    "Apropos GPU, they do have a device."
   ]
  },
  {
   "cell_type": "code",
   "execution_count": 9,
   "metadata": {},
   "outputs": [
    {
     "data": {
      "text/plain": [
       "(torch.float32, device(type='cpu'))"
      ]
     },
     "execution_count": 9,
     "metadata": {},
     "output_type": "execute_result"
    }
   ],
   "source": [
    "t.dtype, t.device"
   ]
  },
  {
   "cell_type": "markdown",
   "metadata": {},
   "source": [
    "We can move between devices and convert between dtypes."
   ]
  },
  {
   "cell_type": "code",
   "execution_count": 87,
   "metadata": {},
   "outputs": [
    {
     "data": {
      "text/plain": [
       "tensor([[0.0000, 1.4142, 1.6180],\n",
       "        [0.0000, 2.7183, 3.1416]], device='cuda:0', dtype=torch.float64)"
      ]
     },
     "execution_count": 87,
     "metadata": {},
     "output_type": "execute_result"
    }
   ],
   "source": [
    "t.to(dtype=torch.float64, device=\"cuda\")  # if we have a GPU"
   ]
  },
  {
   "cell_type": "markdown",
   "metadata": {
    "slideshow": {
     "slide_type": "slide"
    }
   },
   "source": [
    "## Tensors - a scenic view of memory blobs\n",
    "\n",
    "Internally, Tensors are stored as a blob of memory"
   ]
  },
  {
   "cell_type": "code",
   "execution_count": 11,
   "metadata": {},
   "outputs": [
    {
     "data": {
      "text/plain": [
       " 0.0\n",
       " 1.414199948310852\n",
       " 1.6180000305175781\n",
       " 0.0\n",
       " 2.7183001041412354\n",
       " 3.1415927410125732\n",
       "[torch.FloatStorage of size 6]"
      ]
     },
     "execution_count": 11,
     "metadata": {},
     "output_type": "execute_result"
    }
   ],
   "source": [
    "t.storage()"
   ]
  },
  {
   "cell_type": "code",
   "execution_count": 12,
   "metadata": {},
   "outputs": [
    {
     "data": {
      "text/plain": [
       "((3, 1), torch.Size([2, 3]), 0, 64304064)"
      ]
     },
     "execution_count": 12,
     "metadata": {},
     "output_type": "execute_result"
    }
   ],
   "source": [
    "t.stride(), t.shape, t.storage_offset(), t.data_ptr()"
   ]
  },
  {
   "cell_type": "code",
   "execution_count": 88,
   "metadata": {},
   "outputs": [
    {
     "data": {
      "text/plain": [
       "tensor([[0.0000, 1.4142, 1.6180],\n",
       "        [0.0000, 2.7183, 3.1416]])"
      ]
     },
     "execution_count": 88,
     "metadata": {},
     "output_type": "execute_result"
    }
   ],
   "source": [
    "t"
   ]
  },
  {
   "cell_type": "markdown",
   "metadata": {
    "slideshow": {
     "slide_type": "slide"
    }
   },
   "source": [
    "Indexing and Slicing (and taking Diagonals, too) do *not* copy, but create views:"
   ]
  },
  {
   "cell_type": "code",
   "execution_count": 14,
   "metadata": {},
   "outputs": [],
   "source": [
    "v = t[:, 2:]"
   ]
  },
  {
   "cell_type": "code",
   "execution_count": 92,
   "metadata": {},
   "outputs": [
    {
     "data": {
      "text/plain": [
       "((3, 1), torch.Size([2, 1]), 2, 64304072, 64304064)"
      ]
     },
     "execution_count": 92,
     "metadata": {},
     "output_type": "execute_result"
    }
   ],
   "source": [
    "v.stride(), v.shape, v.storage_offset(), v.data_ptr(), v.storage().data_ptr() "
   ]
  },
  {
   "cell_type": "code",
   "execution_count": 91,
   "metadata": {},
   "outputs": [
    {
     "data": {
      "text/plain": [
       "(tensor([[1.6180],\n",
       "         [3.1416]]),\n",
       "  0.0\n",
       "  1.414199948310852\n",
       "  1.6180000305175781\n",
       "  0.0\n",
       "  2.7183001041412354\n",
       "  3.1415927410125732\n",
       " [torch.FloatStorage of size 6])"
      ]
     },
     "execution_count": 91,
     "metadata": {},
     "output_type": "execute_result"
    }
   ],
   "source": [
    "v, v.storage()"
   ]
  },
  {
   "cell_type": "markdown",
   "metadata": {},
   "source": [
    "(`data_ptr` already subsumes the storage offset...)"
   ]
  },
  {
   "cell_type": "markdown",
   "metadata": {
    "slideshow": {
     "slide_type": "slide"
    }
   },
   "source": [
    "## Generalized tensors are tensors, too.\n",
    "\n",
    "- These were strided tensors\n",
    "- There are other Tensor types: Sparse, on TPU,...\n",
    "- Quantized is a bit special, but similar in spirit."
   ]
  },
  {
   "cell_type": "code",
   "execution_count": 16,
   "metadata": {},
   "outputs": [
    {
     "data": {
      "text/plain": [
       "torch.strided"
      ]
     },
     "execution_count": 16,
     "metadata": {},
     "output_type": "execute_result"
    }
   ],
   "source": [
    "t.layout"
   ]
  },
  {
   "cell_type": "code",
   "execution_count": 17,
   "metadata": {},
   "outputs": [
    {
     "data": {
      "text/plain": [
       "(tensor(indices=tensor([[0, 1, 2, 3, 4, 5, 6, 7, 8, 9]]),\n",
       "        values=tensor([-0.3012,  0.1832,  0.1582, -0.5707,  0.4586, -0.5030,\n",
       "                       -0.2743, -0.4609,  0.9093, -1.2571]),\n",
       "        size=(10,), nnz=10, layout=torch.sparse_coo),\n",
       " torch.sparse_coo)"
      ]
     },
     "execution_count": 17,
     "metadata": {},
     "output_type": "execute_result"
    }
   ],
   "source": [
    "s = torch.sparse_coo_tensor(torch.arange(10)[None], torch.randn(10))\n",
    "s, s.layout"
   ]
  },
  {
   "cell_type": "markdown",
   "metadata": {
    "slideshow": {
     "slide_type": "slide"
    }
   },
   "source": [
    "## Where to get Tensors?\n",
    "\n",
    "PyTorch has ~90 factory functions:\n",
    "\n",
    "- torch.tensor, torch.sparse_coo_tensor\n",
    "\n",
    "- torch.zeros, ones, randn, ...\n",
    "\n",
    "- torch.zeros_like, ones_like, randn_like, ...\n",
    "\n",
    "Conversion to and from Numpy works without copying (there also is `torch.utils.dlpack` for a similar effect with GPU tensors)"
   ]
  },
  {
   "cell_type": "markdown",
   "metadata": {},
   "source": [
    " "
   ]
  },
  {
   "cell_type": "code",
   "execution_count": 94,
   "metadata": {},
   "outputs": [
    {
     "data": {
      "text/plain": [
       "True"
      ]
     },
     "execution_count": 94,
     "metadata": {},
     "output_type": "execute_result"
    }
   ],
   "source": [
    "a = t.numpy()\n",
    "t2 = torch.from_numpy(a)\n",
    "t2.data_ptr() == t.data_ptr()"
   ]
  },
  {
   "cell_type": "markdown",
   "metadata": {},
   "source": [
    "Careful: Numpy uses a dtype of float64 by default, PyTorch float32 (as you typically want that for GPUs)\n",
    "\n",
    "Sometimes you see FloatTensor, .data, ... in old code or copied from old code. Don't do that.\n",
    "\n",
    "There also are `torch.utils.dlpack.to_dlpack` / `from_dlpack` for interchange with GPU tensors."
   ]
  },
  {
   "cell_type": "markdown",
   "metadata": {
    "slideshow": {
     "slide_type": "slide"
    }
   },
   "source": [
    "### Saving and loading tensors\n",
    "\n",
    "Saving and loading tensors and dicts, lists of them (and other types) can be done though `torch.save` and `torch.load`. Optionally, you can specify where the tensors should be loaded to (the default is to put GPU tensors back on the GPU)."
   ]
  },
  {
   "cell_type": "code",
   "execution_count": 19,
   "metadata": {},
   "outputs": [
    {
     "data": {
      "text/plain": [
       "tensor([[0.0000, 1.4142, 1.6180],\n",
       "        [0.0000, 2.7183, 3.1416]])"
      ]
     },
     "execution_count": 19,
     "metadata": {},
     "output_type": "execute_result"
    }
   ],
   "source": [
    "torch.save(t, 'my-tensor.pt')\n",
    "torch.load('my-tensor.pt', map_location=\"cpu\")"
   ]
  },
  {
   "cell_type": "markdown",
   "metadata": {
    "slideshow": {
     "slide_type": "-"
    }
   },
   "source": [
    "**Style advice**: Do use `.pt` as an extension, not `.pth` or anything else (`pth` collides with Python \"path\" files)."
   ]
  },
  {
   "cell_type": "markdown",
   "metadata": {
    "slideshow": {
     "slide_type": "slide"
    }
   },
   "source": [
    "# PyTorch is ... operations on tensors\n",
    "\n",
    "PyTorch mostly follows numpy in naming. Most things are available as methods (`t.tanh()`) and functions (`torch.tanh(t)`). More neural-network specific things are in `torch.nn.functional`.\n",
    "\n",
    "I'm not going to list them, but generally we follow NumPy naming, the [documentation](https://pytorch.org/docs/) has all the details."
   ]
  },
  {
   "cell_type": "code",
   "execution_count": 96,
   "metadata": {},
   "outputs": [
    {
     "data": {
      "text/plain": [
       "tensor([[0.0000, 0.8884, 0.9243],\n",
       "        [0.0000, 0.9913, 0.9963]])"
      ]
     },
     "execution_count": 96,
     "metadata": {},
     "output_type": "execute_result"
    }
   ],
   "source": [
    "t.tanh()"
   ]
  },
  {
   "cell_type": "markdown",
   "metadata": {
    "slideshow": {
     "slide_type": "slide"
    }
   },
   "source": [
    "Inplace operations are signaled by a trailing underscore `_`."
   ]
  },
  {
   "cell_type": "code",
   "execution_count": 97,
   "metadata": {
    "slideshow": {
     "slide_type": "-"
    }
   },
   "outputs": [
    {
     "data": {
      "text/plain": [
       "tensor([[ 0.5818,  0.5468, -0.5868, -0.4897,  0.5053],\n",
       "        [-0.8882,  0.4230,  0.4745, -0.1202, -0.4646],\n",
       "        [-0.8338,  0.9809,  0.6573,  0.4733, -0.9163],\n",
       "        [-0.3643, -0.6585,  0.8092,  0.3195, -0.9456],\n",
       "        [ 0.8908, -0.6697, -0.3217, -0.7229,  0.1899]])"
      ]
     },
     "execution_count": 97,
     "metadata": {},
     "output_type": "execute_result"
    }
   ],
   "source": [
    "z = torch.randn(5, 5)\n",
    "z.tanh_()\n",
    "z"
   ]
  },
  {
   "cell_type": "markdown",
   "metadata": {
    "slideshow": {
     "slide_type": "slide"
    }
   },
   "source": [
    "The `torch.nn.functional` namespace (sometimes mapped to `F.`) contains functions that are more neural-network related.\n"
   ]
  },
  {
   "cell_type": "code",
   "execution_count": 98,
   "metadata": {
    "slideshow": {
     "slide_type": "-"
    }
   },
   "outputs": [
    {
     "data": {
      "text/plain": [
       "tensor([[ 2.1407, -0.8246, -1.6586, -0.6369,  1.4663, -0.9778,  1.4789, -2.1642,\n",
       "          2.9364, -2.2703],\n",
       "        [-3.3838,  1.6124,  1.5456,  1.2296, -1.2742,  4.7285, -1.0873,  2.8464,\n",
       "         -6.1595,  3.3769]])"
      ]
     },
     "execution_count": 98,
     "metadata": {},
     "output_type": "execute_result"
    }
   ],
   "source": [
    "w = torch.randn(10, 5)\n",
    "i = torch.randn(2, 5)\n",
    "torch.nn.functional.linear(i, w)"
   ]
  },
  {
   "cell_type": "markdown",
   "metadata": {
    "slideshow": {
     "slide_type": "slide"
    }
   },
   "source": [
    "# PyTorch is ... autograd\n",
    "\n",
    "PyTorch has a backpropagation-based autograd mechanism. It computes the gradient of *scalar* functions (and, by proxy of Jacobian-Vector products) at the point where is was evaluated.\n",
    "\n",
    "<img src='backprop.png' style='width: 100%' />"
   ]
  },
  {
   "cell_type": "markdown",
   "metadata": {
    "slideshow": {
     "slide_type": "slide"
    }
   },
   "source": [
    "## Autograd in action"
   ]
  },
  {
   "cell_type": "code",
   "execution_count": 106,
   "metadata": {},
   "outputs": [],
   "source": [
    "x = torch.linspace(-3, 3, requires_grad=True)\n",
    "f = 10 * torch.sin(x)**2 + torch.tanh(x)\n",
    "gr, = torch.autograd.grad(f.sum(), [x]) # gr always returns a list of gradients\n"
   ]
  },
  {
   "cell_type": "code",
   "execution_count": 107,
   "metadata": {},
   "outputs": [
    {
     "data": {
      "image/png": "[encoded data removed]",
      "text/plain": [
       "<Figure size 432x288 with 1 Axes>"
      ]
     },
     "metadata": {
      "needs_background": "light"
     },
     "output_type": "display_data"
    }
   ],
   "source": [
    "pyplot.plot(x.detach().numpy(), f.detach().numpy(), '--')\n",
    "delta = 0.2\n",
    "for xi, fi, gi in zip(x[::10].tolist(), f[::10].tolist(), gr[::10].tolist()):\n",
    "    pyplot.plot([xi-delta, xi+delta], [fi-delta*gi, fi+delta*gi]) # tangents at every 10th point"
   ]
  },
  {
   "cell_type": "markdown",
   "metadata": {
    "slideshow": {
     "slide_type": "slide"
    }
   },
   "source": [
    "A mickey mouse example of optimizing a model (actually 100 times, starting from random initializations).\n",
    "\n",
    "- We have 100 mini batches à 10 items.\n",
    "- Each is, for a (normally) random $x$ the value $f(x) = \\sin(2x)$.\n",
    "- This we approximate by a 2-layer network with 10 hidden units. Our loss is the squared euclidean distance.\n",
    "- By trying various starting values, we represent the uncertainty coming from the random initializaiton of the weights (of course, we would expect that to go away with more iterations)."
   ]
  },
  {
   "cell_type": "code",
   "execution_count": 110,
   "metadata": {
    "slideshow": {
     "slide_type": "slide"
    }
   },
   "outputs": [
    {
     "data": {
      "text/plain": [
       "torch.Size([100, 100])"
      ]
     },
     "execution_count": 110,
     "metadata": {},
     "output_type": "execute_result"
    }
   ],
   "source": [
    "final_preds = []\n",
    "for no in range(100):   # 100 experiments\n",
    "    w1 = torch.randn(1, 10, requires_grad=True)   # initialise random paramters\n",
    "    b1 = torch.randn(10, requires_grad=True)\n",
    "    w2 = torch.randn(10, 1, requires_grad=True)\n",
    "    b2 = torch.randn(1, requires_grad=True)\n",
    "    params = [w1, b1, w2, b2]\n",
    "\n",
    "    for i in range(100):  # fitting 100 minibatches\n",
    "        x = torch.randn(10, 1)   # input value\n",
    "        target = torch.sin(2 * x)   # target value (usually from dataset)\n",
    "\n",
    "        pred = torch.tanh(x @ w1 + b1) @ w2 + b2   # our model\n",
    "\n",
    "        loss = ((pred - target) ** 2).sum()\n",
    "\n",
    "        grads = torch.autograd.grad(loss, params)\n",
    "\n",
    "        for p, g in zip(params, grads):\n",
    "            with torch.no_grad():\n",
    "                p -= 1e-2 * g\n",
    "\n",
    "    with torch.no_grad(): # no gradients here...\n",
    "        x0 = torch.linspace(-2, 2)\n",
    "        final_preds.append(torch.tanh(x0[:, None] @ w1 + b1) @ w2 + b2)\n",
    "\n",
    "final_preds = torch.cat(final_preds, dim=1)\n",
    "final_preds.shape"
   ]
  },
  {
   "cell_type": "code",
   "execution_count": 26,
   "metadata": {
    "slideshow": {
     "slide_type": "slide"
    }
   },
   "outputs": [
    {
     "data": {
      "text/plain": [
       "[<matplotlib.lines.Line2D at 0x7f71c4b85f70>]"
      ]
     },
     "execution_count": 26,
     "metadata": {},
     "output_type": "execute_result"
    },
    {
     "data": {
      "image/png": "[encoded data removed]",
      "text/plain": [
       "<Figure size 432x288 with 1 Axes>"
      ]
     },
     "metadata": {
      "needs_background": "light"
     },
     "output_type": "display_data"
    }
   ],
   "source": [
    "x0 = torch.linspace(-2, 2)\n",
    "pyplot.plot(x0, final_preds, alpha=0.3)\n",
    "pyplot.plot(x0, torch.sin(2 * x0), linewidth=5)"
   ]
  },
  {
   "cell_type": "code",
   "execution_count": 27,
   "metadata": {
    "slideshow": {
     "slide_type": "slide"
    }
   },
   "outputs": [
    {
     "data": {
      "text/plain": [
       "<matplotlib.legend.Legend at 0x7f71c4b6a0a0>"
      ]
     },
     "execution_count": 27,
     "metadata": {},
     "output_type": "execute_result"
    },
    {
     "data": {
      "image/png": "[encoded data removed]",
      "text/plain": [
       "<Figure size 432x288 with 1 Axes>"
      ]
     },
     "metadata": {
      "needs_background": "light"
     },
     "output_type": "display_data"
    }
   ],
   "source": [
    "pyplot.plot(x0, final_preds.mean(1), label='estimate')\n",
    "pyplot.plot(x0, torch.sin(2 * x0), label='true')\n",
    "pyplot.fill_between(x0, numpy.percentile(final_preds, 2.5, axis=1), numpy.percentile(final_preds, 97.5, axis=1),\n",
    "                   color='lightgray')\n",
    "pyplot.legend()"
   ]
  },
  {
   "cell_type": "markdown",
   "metadata": {
    "slideshow": {
     "slide_type": "slide"
    }
   },
   "source": [
    "## Leaves, intermediates, inplace and ...\n",
    "\n",
    "There roughly are these types of tensors from an autograd perspective:\n",
    "\n",
    "- \"Plain\" tensors, not requiring gradients (in particular all integral tensors).\n",
    "- Leaves are the initial tensors requiring grad, from the factory functions or by taking a non-grad-requiring tensor and saying `t.requires_grad_()`.\n",
    "- Computed tensors where an input requires gradients will, in general, require gradient.\n",
    "- \"views\", tensors sharing memory, are special."
   ]
  },
  {
   "cell_type": "markdown",
   "metadata": {
    "slideshow": {
     "slide_type": "slide"
    }
   },
   "source": [
    "Let's look at this in some detail."
   ]
  },
  {
   "cell_type": "code",
   "execution_count": 28,
   "metadata": {
    "slideshow": {
     "slide_type": "skip"
    }
   },
   "outputs": [],
   "source": [
    "import graphviz\n",
    "import warnings\n",
    "def ptgraph(tensors=None):\n",
    "    g = graphviz.Digraph()\n",
    "    with warnings.catch_warnings():\n",
    "        warnings.filterwarnings('ignore')\n",
    "        names = {v:k for k,v in globals().items() if isinstance(v, torch.Tensor) and not k.startswith('_')}\n",
    "        for n, m in globals().items():\n",
    "            if isinstance(m, torch.nn.Module) and not n.startswith('_'):            \n",
    "                names.update({p: n+':'+np for np, p in m.named_parameters()})\n",
    "        new_names = names\n",
    "        while new_names:\n",
    "            new_names = {k.grad: v+'.grad' for k, v in new_names.items() if k.grad is not None}\n",
    "            names.update(new_names)\n",
    "        known_gradfns = {k.grad_fn: k for k,v in names.items() if k.grad_fn is not None}\n",
    "    seen = set()\n",
    "    def traverse_node(node):\n",
    "        node = known_gradfns.get(node, node)\n",
    "        node_id = str(hash(node))\n",
    "        nodename = node.__class__.__name__\n",
    "        if isinstance(node, torch.Tensor) and node in names:\n",
    "            nodename = names[node]\n",
    "            if node.grad_fn is None:\n",
    "                g.node(node_id, nodename)\n",
    "                return node_id\n",
    "            node = node.grad_fn\n",
    "            nodename = f'{nodename} ({node.__class__.__name__})'\n",
    "        if hasattr(node, 'variable'):\n",
    "            v = node.variable\n",
    "            vn = names.get(v)\n",
    "            node_id = str(hash(v))\n",
    "            if vn is not None:\n",
    "                nodename = f'{vn} ({nodename})'\n",
    "        g.node(node_id, nodename)\n",
    "        if node in seen:\n",
    "            return node_id\n",
    "        seen.add(node)\n",
    "        for n ,p in node.next_functions:\n",
    "            if n is not None:\n",
    "                other_id = traverse_node(n)\n",
    "                g.edge(other_id, node_id)\n",
    "        return node_id\n",
    "    if tensors is None:\n",
    "        tensors = names.keys()\n",
    "    elif not isinstance(tensors, (list, tuple)):\n",
    "        tensors = [tensors]\n",
    "    for t in tensors:\n",
    "        other_id = traverse_node(t)\n",
    "    return g"
   ]
  },
  {
   "cell_type": "code",
   "execution_count": 112,
   "metadata": {
    "slideshow": {
     "slide_type": "-"
    }
   },
   "outputs": [
    {
     "data": {
      "image/svg+xml": [
       "<?xml version=\"1.0\" encoding=\"UTF-8\" standalone=\"no\"?>\n",
       "<!DOCTYPE svg PUBLIC \"-//W3C//DTD SVG 1.1//EN\"\n",
       " \"http://www.w3.org/Graphics/SVG/1.1/DTD/svg11.dtd\">\n",
       "<!-- Generated by graphviz version 2.43.0 (0)\n",
       " -->\n",
       "<!-- Title: %3 Pages: 1 -->\n",
       "<svg width=\"416pt\" height=\"188pt\"\n",
       " viewBox=\"0.00 0.00 416.03 188.00\" xmlns=\"http://www.w3.org/2000/svg\" xmlns:xlink=\"http://www.w3.org/1999/xlink\">\n",
       "<g id=\"graph0\" class=\"graph\" transform=\"scale(1 1) rotate(0) translate(4 184)\">\n",
       "<title>%3</title>\n",
       "<polygon fill=\"white\" stroke=\"transparent\" points=\"-4,4 -4,-184 412.03,-184 412.03,4 -4,4\"/>\n",
       "<!-- 140121887143168 -->\n",
       "<g id=\"node1\" class=\"node\">\n",
       "<title>140121887143168</title>\n",
       "<ellipse fill=\"none\" stroke=\"black\" cx=\"203.69\" cy=\"-18\" rx=\"94.78\" ry=\"18\"/>\n",
       "<text text-anchor=\"middle\" x=\"203.69\" y=\"-14.3\" font-family=\"Times,serif\" font-size=\"14.00\">c (MulBackward0)</text>\n",
       "</g>\n",
       "<!-- 8757615652054 -->\n",
       "<g id=\"node2\" class=\"node\">\n",
       "<title>8757615652054</title>\n",
       "<ellipse fill=\"none\" stroke=\"black\" cx=\"102.69\" cy=\"-90\" rx=\"80.69\" ry=\"18\"/>\n",
       "<text text-anchor=\"middle\" x=\"102.69\" y=\"-86.3\" font-family=\"Times,serif\" font-size=\"14.00\">AddBackward0</text>\n",
       "</g>\n",
       "<!-- 8757615652054&#45;&gt;140121887143168 -->\n",
       "<g id=\"edge2\" class=\"edge\">\n",
       "<title>8757615652054&#45;&gt;140121887143168</title>\n",
       "<path fill=\"none\" stroke=\"black\" d=\"M126.12,-72.76C139.56,-63.45 156.64,-51.61 171.35,-41.41\"/>\n",
       "<polygon fill=\"black\" stroke=\"black\" points=\"173.47,-44.21 179.69,-35.63 169.48,-38.45 173.47,-44.21\"/>\n",
       "</g>\n",
       "<!-- 140121887120640 -->\n",
       "<g id=\"node3\" class=\"node\">\n",
       "<title>140121887120640</title>\n",
       "<ellipse fill=\"none\" stroke=\"black\" cx=\"102.69\" cy=\"-162\" rx=\"102.88\" ry=\"18\"/>\n",
       "<text text-anchor=\"middle\" x=\"102.69\" y=\"-158.3\" font-family=\"Times,serif\" font-size=\"14.00\">a (AccumulateGrad)</text>\n",
       "</g>\n",
       "<!-- 140121887120640&#45;&gt;8757615652054 -->\n",
       "<g id=\"edge1\" class=\"edge\">\n",
       "<title>140121887120640&#45;&gt;8757615652054</title>\n",
       "<path fill=\"none\" stroke=\"black\" d=\"M102.69,-143.7C102.69,-135.98 102.69,-126.71 102.69,-118.11\"/>\n",
       "<polygon fill=\"black\" stroke=\"black\" points=\"106.19,-118.1 102.69,-108.1 99.19,-118.1 106.19,-118.1\"/>\n",
       "</g>\n",
       "<!-- 140121890336256 -->\n",
       "<g id=\"node4\" class=\"node\">\n",
       "<title>140121890336256</title>\n",
       "<ellipse fill=\"none\" stroke=\"black\" cx=\"304.69\" cy=\"-90\" rx=\"103.18\" ry=\"18\"/>\n",
       "<text text-anchor=\"middle\" x=\"304.69\" y=\"-86.3\" font-family=\"Times,serif\" font-size=\"14.00\">b (AccumulateGrad)</text>\n",
       "</g>\n",
       "<!-- 140121890336256&#45;&gt;140121887143168 -->\n",
       "<g id=\"edge3\" class=\"edge\">\n",
       "<title>140121890336256&#45;&gt;140121887143168</title>\n",
       "<path fill=\"none\" stroke=\"black\" d=\"M280.76,-72.41C267.3,-63.08 250.32,-51.32 235.73,-41.2\"/>\n",
       "<polygon fill=\"black\" stroke=\"black\" points=\"237.67,-38.29 227.45,-35.47 233.68,-44.04 237.67,-38.29\"/>\n",
       "</g>\n",
       "</g>\n",
       "</svg>\n"
      ],
      "text/plain": [
       "<graphviz.dot.Digraph at 0x7f70b002d640>"
      ]
     },
     "execution_count": 112,
     "metadata": {},
     "output_type": "execute_result"
    }
   ],
   "source": [
    "a = torch.randn(5, requires_grad=True)\n",
    "b = torch.randn(5, requires_grad=True)\n",
    "c = (a + 1) * b\n",
    "ptgraph(c)\n"
   ]
  },
  {
   "cell_type": "markdown",
   "metadata": {
    "slideshow": {
     "slide_type": "slide"
    }
   },
   "source": [
    "A common mistake is to accidentally throw away the true leaf. Note the difference between `a` and `b`."
   ]
  },
  {
   "cell_type": "code",
   "execution_count": 71,
   "metadata": {
    "slideshow": {
     "slide_type": "-"
    }
   },
   "outputs": [
    {
     "data": {
      "image/svg+xml": [
       "<?xml version=\"1.0\" encoding=\"UTF-8\" standalone=\"no\"?>\n",
       "<!DOCTYPE svg PUBLIC \"-//W3C//DTD SVG 1.1//EN\"\n",
       " \"http://www.w3.org/Graphics/SVG/1.1/DTD/svg11.dtd\">\n",
       "<!-- Generated by graphviz version 2.43.0 (0)\n",
       " -->\n",
       "<!-- Title: %3 Pages: 1 -->\n",
       "<svg width=\"413pt\" height=\"260pt\"\n",
       " viewBox=\"0.00 0.00 413.43 260.00\" xmlns=\"http://www.w3.org/2000/svg\" xmlns:xlink=\"http://www.w3.org/1999/xlink\">\n",
       "<g id=\"graph0\" class=\"graph\" transform=\"scale(1 1) rotate(0) translate(4 256)\">\n",
       "<title>%3</title>\n",
       "<polygon fill=\"white\" stroke=\"transparent\" points=\"-4,4 -4,-256 409.43,-256 409.43,4 -4,4\"/>\n",
       "<!-- 140126602030464 -->\n",
       "<g id=\"node1\" class=\"node\">\n",
       "<title>140126602030464</title>\n",
       "<ellipse fill=\"none\" stroke=\"black\" cx=\"201.09\" cy=\"-18\" rx=\"94.78\" ry=\"18\"/>\n",
       "<text text-anchor=\"middle\" x=\"201.09\" y=\"-14.3\" font-family=\"Times,serif\" font-size=\"14.00\">c (MulBackward0)</text>\n",
       "</g>\n",
       "<!-- 8757912851646 -->\n",
       "<g id=\"node2\" class=\"node\">\n",
       "<title>8757912851646</title>\n",
       "<ellipse fill=\"none\" stroke=\"black\" cx=\"100.09\" cy=\"-90\" rx=\"80.69\" ry=\"18\"/>\n",
       "<text text-anchor=\"middle\" x=\"100.09\" y=\"-86.3\" font-family=\"Times,serif\" font-size=\"14.00\">AddBackward0</text>\n",
       "</g>\n",
       "<!-- 8757912851646&#45;&gt;140126602030464 -->\n",
       "<g id=\"edge3\" class=\"edge\">\n",
       "<title>8757912851646&#45;&gt;140126602030464</title>\n",
       "<path fill=\"none\" stroke=\"black\" d=\"M123.52,-72.76C136.96,-63.45 154.04,-51.61 168.75,-41.41\"/>\n",
       "<polygon fill=\"black\" stroke=\"black\" points=\"170.87,-44.21 177.09,-35.63 166.88,-38.45 170.87,-44.21\"/>\n",
       "</g>\n",
       "<!-- 140126605759104 -->\n",
       "<g id=\"node3\" class=\"node\">\n",
       "<title>140126605759104</title>\n",
       "<ellipse fill=\"none\" stroke=\"black\" cx=\"100.09\" cy=\"-162\" rx=\"100.18\" ry=\"18\"/>\n",
       "<text text-anchor=\"middle\" x=\"100.09\" y=\"-158.3\" font-family=\"Times,serif\" font-size=\"14.00\">a (CopyBackwards)</text>\n",
       "</g>\n",
       "<!-- 140126605759104&#45;&gt;8757912851646 -->\n",
       "<g id=\"edge2\" class=\"edge\">\n",
       "<title>140126605759104&#45;&gt;8757912851646</title>\n",
       "<path fill=\"none\" stroke=\"black\" d=\"M100.09,-143.7C100.09,-135.98 100.09,-126.71 100.09,-118.11\"/>\n",
       "<polygon fill=\"black\" stroke=\"black\" points=\"103.59,-118.1 100.09,-108.1 96.59,-118.1 103.59,-118.1\"/>\n",
       "</g>\n",
       "<!-- 140126602029696 -->\n",
       "<g id=\"node4\" class=\"node\">\n",
       "<title>140126602029696</title>\n",
       "<ellipse fill=\"none\" stroke=\"black\" cx=\"100.09\" cy=\"-234\" rx=\"87.99\" ry=\"18\"/>\n",
       "<text text-anchor=\"middle\" x=\"100.09\" y=\"-230.3\" font-family=\"Times,serif\" font-size=\"14.00\">AccumulateGrad</text>\n",
       "</g>\n",
       "<!-- 140126602029696&#45;&gt;140126605759104 -->\n",
       "<g id=\"edge1\" class=\"edge\">\n",
       "<title>140126602029696&#45;&gt;140126605759104</title>\n",
       "<path fill=\"none\" stroke=\"black\" d=\"M100.09,-215.7C100.09,-207.98 100.09,-198.71 100.09,-190.11\"/>\n",
       "<polygon fill=\"black\" stroke=\"black\" points=\"103.59,-190.1 100.09,-180.1 96.59,-190.1 103.59,-190.1\"/>\n",
       "</g>\n",
       "<!-- 140126602389504 -->\n",
       "<g id=\"node5\" class=\"node\">\n",
       "<title>140126602389504</title>\n",
       "<ellipse fill=\"none\" stroke=\"black\" cx=\"302.09\" cy=\"-90\" rx=\"103.18\" ry=\"18\"/>\n",
       "<text text-anchor=\"middle\" x=\"302.09\" y=\"-86.3\" font-family=\"Times,serif\" font-size=\"14.00\">b (AccumulateGrad)</text>\n",
       "</g>\n",
       "<!-- 140126602389504&#45;&gt;140126602030464 -->\n",
       "<g id=\"edge4\" class=\"edge\">\n",
       "<title>140126602389504&#45;&gt;140126602030464</title>\n",
       "<path fill=\"none\" stroke=\"black\" d=\"M278.16,-72.41C264.7,-63.08 247.72,-51.32 233.13,-41.2\"/>\n",
       "<polygon fill=\"black\" stroke=\"black\" points=\"235.07,-38.29 224.85,-35.47 231.08,-44.04 235.07,-38.29\"/>\n",
       "</g>\n",
       "</g>\n",
       "</svg>\n"
      ],
      "text/plain": [
       "<graphviz.dot.Digraph at 0x7f71c48d4fd0>"
      ]
     },
     "execution_count": 71,
     "metadata": {},
     "output_type": "execute_result"
    }
   ],
   "source": [
    "a = torch.randn(5, requires_grad=True).cuda()\n",
    "b = torch.randn(5, requires_grad=True, device='cuda')\n",
    "c = (a + 1) * b\n",
    "ptgraph(c)"
   ]
  },
  {
   "cell_type": "markdown",
   "metadata": {
    "slideshow": {
     "slide_type": "slide"
    }
   },
   "source": [
    "This would be a repaired version (but, if you can, working directly on the GPU is more efficient)."
   ]
  },
  {
   "cell_type": "code",
   "execution_count": 72,
   "metadata": {
    "slideshow": {
     "slide_type": "-"
    }
   },
   "outputs": [
    {
     "data": {
      "image/svg+xml": [
       "<?xml version=\"1.0\" encoding=\"UTF-8\" standalone=\"no\"?>\n",
       "<!DOCTYPE svg PUBLIC \"-//W3C//DTD SVG 1.1//EN\"\n",
       " \"http://www.w3.org/Graphics/SVG/1.1/DTD/svg11.dtd\">\n",
       "<!-- Generated by graphviz version 2.43.0 (0)\n",
       " -->\n",
       "<!-- Title: %3 Pages: 1 -->\n",
       "<svg width=\"416pt\" height=\"188pt\"\n",
       " viewBox=\"0.00 0.00 416.03 188.00\" xmlns=\"http://www.w3.org/2000/svg\" xmlns:xlink=\"http://www.w3.org/1999/xlink\">\n",
       "<g id=\"graph0\" class=\"graph\" transform=\"scale(1 1) rotate(0) translate(4 184)\">\n",
       "<title>%3</title>\n",
       "<polygon fill=\"white\" stroke=\"transparent\" points=\"-4,4 -4,-184 412.03,-184 412.03,4 -4,4\"/>\n",
       "<!-- 140126602017856 -->\n",
       "<g id=\"node1\" class=\"node\">\n",
       "<title>140126602017856</title>\n",
       "<ellipse fill=\"none\" stroke=\"black\" cx=\"203.69\" cy=\"-18\" rx=\"94.78\" ry=\"18\"/>\n",
       "<text text-anchor=\"middle\" x=\"203.69\" y=\"-14.3\" font-family=\"Times,serif\" font-size=\"14.00\">c (MulBackward0)</text>\n",
       "</g>\n",
       "<!-- 8757913217241 -->\n",
       "<g id=\"node2\" class=\"node\">\n",
       "<title>8757913217241</title>\n",
       "<ellipse fill=\"none\" stroke=\"black\" cx=\"102.69\" cy=\"-90\" rx=\"80.69\" ry=\"18\"/>\n",
       "<text text-anchor=\"middle\" x=\"102.69\" y=\"-86.3\" font-family=\"Times,serif\" font-size=\"14.00\">AddBackward0</text>\n",
       "</g>\n",
       "<!-- 8757913217241&#45;&gt;140126602017856 -->\n",
       "<g id=\"edge2\" class=\"edge\">\n",
       "<title>8757913217241&#45;&gt;140126602017856</title>\n",
       "<path fill=\"none\" stroke=\"black\" d=\"M126.12,-72.76C139.56,-63.45 156.64,-51.61 171.35,-41.41\"/>\n",
       "<polygon fill=\"black\" stroke=\"black\" points=\"173.47,-44.21 179.69,-35.63 169.48,-38.45 173.47,-44.21\"/>\n",
       "</g>\n",
       "<!-- 140126602367104 -->\n",
       "<g id=\"node3\" class=\"node\">\n",
       "<title>140126602367104</title>\n",
       "<ellipse fill=\"none\" stroke=\"black\" cx=\"102.69\" cy=\"-162\" rx=\"102.88\" ry=\"18\"/>\n",
       "<text text-anchor=\"middle\" x=\"102.69\" y=\"-158.3\" font-family=\"Times,serif\" font-size=\"14.00\">a (AccumulateGrad)</text>\n",
       "</g>\n",
       "<!-- 140126602367104&#45;&gt;8757913217241 -->\n",
       "<g id=\"edge1\" class=\"edge\">\n",
       "<title>140126602367104&#45;&gt;8757913217241</title>\n",
       "<path fill=\"none\" stroke=\"black\" d=\"M102.69,-143.7C102.69,-135.98 102.69,-126.71 102.69,-118.11\"/>\n",
       "<polygon fill=\"black\" stroke=\"black\" points=\"106.19,-118.1 102.69,-108.1 99.19,-118.1 106.19,-118.1\"/>\n",
       "</g>\n",
       "<!-- 140128683981312 -->\n",
       "<g id=\"node4\" class=\"node\">\n",
       "<title>140128683981312</title>\n",
       "<ellipse fill=\"none\" stroke=\"black\" cx=\"304.69\" cy=\"-90\" rx=\"103.18\" ry=\"18\"/>\n",
       "<text text-anchor=\"middle\" x=\"304.69\" y=\"-86.3\" font-family=\"Times,serif\" font-size=\"14.00\">b (AccumulateGrad)</text>\n",
       "</g>\n",
       "<!-- 140128683981312&#45;&gt;140126602017856 -->\n",
       "<g id=\"edge3\" class=\"edge\">\n",
       "<title>140128683981312&#45;&gt;140126602017856</title>\n",
       "<path fill=\"none\" stroke=\"black\" d=\"M280.76,-72.41C267.3,-63.08 250.32,-51.32 235.73,-41.2\"/>\n",
       "<polygon fill=\"black\" stroke=\"black\" points=\"237.67,-38.29 227.45,-35.47 233.68,-44.04 237.67,-38.29\"/>\n",
       "</g>\n",
       "</g>\n",
       "</svg>\n"
      ],
      "text/plain": [
       "<graphviz.dot.Digraph at 0x7f71c481a520>"
      ]
     },
     "execution_count": 72,
     "metadata": {},
     "output_type": "execute_result"
    }
   ],
   "source": [
    "a = torch.randn(5).cuda().requires_grad_()\n",
    "b = torch.randn(5, requires_grad=True, device='cuda')\n",
    "c = (a + 1) * b\n",
    "ptgraph(c)"
   ]
  },
  {
   "cell_type": "markdown",
   "metadata": {
    "slideshow": {
     "slide_type": "slide"
    }
   },
   "source": [
    "You can cut things from autograd with `detach()` (and `detach_()`)"
   ]
  },
  {
   "cell_type": "code",
   "execution_count": 73,
   "metadata": {
    "slideshow": {
     "slide_type": "-"
    }
   },
   "outputs": [
    {
     "data": {
      "image/svg+xml": [
       "<?xml version=\"1.0\" encoding=\"UTF-8\" standalone=\"no\"?>\n",
       "<!DOCTYPE svg PUBLIC \"-//W3C//DTD SVG 1.1//EN\"\n",
       " \"http://www.w3.org/Graphics/SVG/1.1/DTD/svg11.dtd\">\n",
       "<!-- Generated by graphviz version 2.43.0 (0)\n",
       " -->\n",
       "<!-- Title: %3 Pages: 1 -->\n",
       "<svg width=\"215pt\" height=\"116pt\"\n",
       " viewBox=\"0.00 0.00 214.68 116.00\" xmlns=\"http://www.w3.org/2000/svg\" xmlns:xlink=\"http://www.w3.org/1999/xlink\">\n",
       "<g id=\"graph0\" class=\"graph\" transform=\"scale(1 1) rotate(0) translate(4 112)\">\n",
       "<title>%3</title>\n",
       "<polygon fill=\"white\" stroke=\"transparent\" points=\"-4,4 -4,-112 210.68,-112 210.68,4 -4,4\"/>\n",
       "<!-- 140126654724928 -->\n",
       "<g id=\"node1\" class=\"node\">\n",
       "<title>140126654724928</title>\n",
       "<ellipse fill=\"none\" stroke=\"black\" cx=\"103.34\" cy=\"-18\" rx=\"94.78\" ry=\"18\"/>\n",
       "<text text-anchor=\"middle\" x=\"103.34\" y=\"-14.3\" font-family=\"Times,serif\" font-size=\"14.00\">c (MulBackward0)</text>\n",
       "</g>\n",
       "<!-- 140126605704960 -->\n",
       "<g id=\"node2\" class=\"node\">\n",
       "<title>140126605704960</title>\n",
       "<ellipse fill=\"none\" stroke=\"black\" cx=\"103.34\" cy=\"-90\" rx=\"103.18\" ry=\"18\"/>\n",
       "<text text-anchor=\"middle\" x=\"103.34\" y=\"-86.3\" font-family=\"Times,serif\" font-size=\"14.00\">b (AccumulateGrad)</text>\n",
       "</g>\n",
       "<!-- 140126605704960&#45;&gt;140126654724928 -->\n",
       "<g id=\"edge1\" class=\"edge\">\n",
       "<title>140126605704960&#45;&gt;140126654724928</title>\n",
       "<path fill=\"none\" stroke=\"black\" d=\"M103.34,-71.7C103.34,-63.98 103.34,-54.71 103.34,-46.11\"/>\n",
       "<polygon fill=\"black\" stroke=\"black\" points=\"106.84,-46.1 103.34,-36.1 99.84,-46.1 106.84,-46.1\"/>\n",
       "</g>\n",
       "</g>\n",
       "</svg>\n"
      ],
      "text/plain": [
       "<graphviz.dot.Digraph at 0x7f71c4e97400>"
      ]
     },
     "execution_count": 73,
     "metadata": {},
     "output_type": "execute_result"
    }
   ],
   "source": [
    "a = torch.randn(5, requires_grad=True).cuda()\n",
    "b = torch.randn(5, requires_grad=True, device='cuda')\n",
    "c = (a + 1).detach() * b\n",
    "ptgraph(c)"
   ]
  },
  {
   "cell_type": "markdown",
   "metadata": {
    "slideshow": {
     "slide_type": "slide"
    }
   },
   "source": [
    "Inplace with autograd can be tricky"
   ]
  },
  {
   "cell_type": "code",
   "execution_count": 138,
   "metadata": {},
   "outputs": [
    {
     "data": {
      "text/plain": [
       "(tensor([1., 1., 1., 1., 1.]),)"
      ]
     },
     "execution_count": 138,
     "metadata": {},
     "output_type": "execute_result"
    }
   ],
   "source": [
    "a = torch.randn(5, requires_grad=True)\n",
    "b1 = a + 1\n",
    "b2 = b1 + 1\n",
    "\n",
    "b1 += 1\n",
    "\n",
    "torch.autograd.grad(b2.sum(), a) # works\n"
   ]
  },
  {
   "cell_type": "code",
   "execution_count": 115,
   "metadata": {
    "slideshow": {
     "slide_type": "slide"
    },
    "tags": [
     "raises-exception"
    ]
   },
   "outputs": [
    {
     "ename": "RuntimeError",
     "evalue": "one of the variables needed for gradient computation has been modified by an inplace operation: [torch.FloatTensor [5]], which is output 0 of AddBackward0, is at version 1; expected version 0 instead. Hint: enable anomaly detection to find the operation that failed to compute its gradient, with torch.autograd.set_detect_anomaly(True).",
     "output_type": "error",
     "traceback": [
      "\u001b[0;31m---------------------------------------------------------------------------\u001b[0m",
      "\u001b[0;31mRuntimeError\u001b[0m                              Traceback (most recent call last)",
      "\u001b[0;32m<ipython-input-115-950f59f473fd>\u001b[0m in \u001b[0;36m<module>\u001b[0;34m\u001b[0m\n\u001b[1;32m      4\u001b[0m \u001b[0mb1\u001b[0m \u001b[0;34m+=\u001b[0m \u001b[0;36m1\u001b[0m\u001b[0;34m\u001b[0m\u001b[0;34m\u001b[0m\u001b[0m\n\u001b[1;32m      5\u001b[0m \u001b[0;34m\u001b[0m\u001b[0m\n\u001b[0;32m----> 6\u001b[0;31m \u001b[0mtorch\u001b[0m\u001b[0;34m.\u001b[0m\u001b[0mautograd\u001b[0m\u001b[0;34m.\u001b[0m\u001b[0mgrad\u001b[0m\u001b[0;34m(\u001b[0m\u001b[0mb2\u001b[0m\u001b[0;34m.\u001b[0m\u001b[0msum\u001b[0m\u001b[0;34m(\u001b[0m\u001b[0;34m)\u001b[0m\u001b[0;34m,\u001b[0m \u001b[0ma\u001b[0m\u001b[0;34m)\u001b[0m \u001b[0;31m# this would need the original b1\u001b[0m\u001b[0;34m\u001b[0m\u001b[0;34m\u001b[0m\u001b[0m\n\u001b[0m",
      "\u001b[0;32m/usr/local/lib/python3.8/dist-packages/torch/autograd/__init__.py\u001b[0m in \u001b[0;36mgrad\u001b[0;34m(outputs, inputs, grad_outputs, retain_graph, create_graph, only_inputs, allow_unused)\u001b[0m\n\u001b[1;32m    188\u001b[0m         \u001b[0mretain_graph\u001b[0m \u001b[0;34m=\u001b[0m \u001b[0mcreate_graph\u001b[0m\u001b[0;34m\u001b[0m\u001b[0;34m\u001b[0m\u001b[0m\n\u001b[1;32m    189\u001b[0m \u001b[0;34m\u001b[0m\u001b[0m\n\u001b[0;32m--> 190\u001b[0;31m     return Variable._execution_engine.run_backward(\n\u001b[0m\u001b[1;32m    191\u001b[0m         \u001b[0moutputs\u001b[0m\u001b[0;34m,\u001b[0m \u001b[0mgrad_outputs\u001b[0m\u001b[0;34m,\u001b[0m \u001b[0mretain_graph\u001b[0m\u001b[0;34m,\u001b[0m \u001b[0mcreate_graph\u001b[0m\u001b[0;34m,\u001b[0m\u001b[0;34m\u001b[0m\u001b[0;34m\u001b[0m\u001b[0m\n\u001b[1;32m    192\u001b[0m         inputs, allow_unused)\n",
      "\u001b[0;31mRuntimeError\u001b[0m: one of the variables needed for gradient computation has been modified by an inplace operation: [torch.FloatTensor [5]], which is output 0 of AddBackward0, is at version 1; expected version 0 instead. Hint: enable anomaly detection to find the operation that failed to compute its gradient, with torch.autograd.set_detect_anomaly(True)."
     ]
    }
   ],
   "source": [
    "a = torch.randn(5, requires_grad=True)\n",
    "b1 = a + 1\n",
    "b2 = b1 ** 2\n",
    "b1 += 1\n",
    "\n",
    "torch.autograd.grad(b2.sum(), a) # this would need the original b1"
   ]
  },
  {
   "cell_type": "markdown",
   "metadata": {
    "slideshow": {
     "slide_type": "slide"
    },
    "tags": [
     "raises-exception"
    ]
   },
   "source": [
    "We did not get a TraceBack in Jupyter before PyTorch 1.7 (PR #41116), but now we get too much (the crucial `b2 = b1 ** 2` is there, but off-screen)..."
   ]
  },
  {
   "cell_type": "code",
   "execution_count": 76,
   "metadata": {
    "scrolled": true,
    "slideshow": {
     "slide_type": "-"
    },
    "tags": [
     "raises-exception"
    ]
   },
   "outputs": [
    {
     "name": "stderr",
     "output_type": "stream",
     "text": [
      "<ipython-input-76-fb1eaba42148>:1: UserWarning: Anomaly Detection has been enabled. This mode will increase the runtime and should only be enabled for debugging.\n",
      "  with torch.autograd.detect_anomaly():\n",
      "/usr/local/lib/python3.8/dist-packages/torch/autograd/__init__.py:190: UserWarning: Error detected in PowBackward0. Traceback of forward call that caused the error:\n",
      "  File \"/usr/lib/python3.8/runpy.py\", line 194, in _run_module_as_main\n",
      "    return _run_code(code, main_globals, None,\n",
      "  File \"/usr/lib/python3.8/runpy.py\", line 87, in _run_code\n",
      "    exec(code, run_globals)\n",
      "  File \"/usr/lib/python3/dist-packages/ipykernel_launcher.py\", line 16, in <module>\n",
      "    app.launch_new_instance()\n",
      "  File \"/usr/lib/python3/dist-packages/traitlets/config/application.py\", line 664, in launch_instance\n",
      "    app.start()\n",
      "  File \"/usr/lib/python3/dist-packages/ipykernel/kernelapp.py\", line 597, in start\n",
      "    self.io_loop.start()\n",
      "  File \"/usr/lib/python3/dist-packages/tornado/platform/asyncio.py\", line 149, in start\n",
      "    self.asyncio_loop.run_forever()\n",
      "  File \"/usr/lib/python3.8/asyncio/base_events.py\", line 570, in run_forever\n",
      "    self._run_once()\n",
      "  File \"/usr/lib/python3.8/asyncio/base_events.py\", line 1859, in _run_once\n",
      "    handle._run()\n",
      "  File \"/usr/lib/python3.8/asyncio/events.py\", line 81, in _run\n",
      "    self._context.run(self._callback, *self._args)\n",
      "  File \"/usr/lib/python3/dist-packages/tornado/ioloop.py\", line 690, in <lambda>\n",
      "    lambda f: self._run_callback(functools.partial(callback, future))\n",
      "  File \"/usr/lib/python3/dist-packages/tornado/ioloop.py\", line 743, in _run_callback\n",
      "    ret = callback()\n",
      "  File \"/usr/lib/python3/dist-packages/tornado/gen.py\", line 787, in inner\n",
      "    self.run()\n",
      "  File \"/usr/lib/python3/dist-packages/tornado/gen.py\", line 748, in run\n",
      "    yielded = self.gen.send(value)\n",
      "  File \"/usr/lib/python3/dist-packages/ipykernel/kernelbase.py\", line 365, in process_one\n",
      "    yield gen.maybe_future(dispatch(*args))\n",
      "  File \"/usr/lib/python3/dist-packages/tornado/gen.py\", line 209, in wrapper\n",
      "    yielded = next(result)\n",
      "  File \"/usr/lib/python3/dist-packages/ipykernel/kernelbase.py\", line 268, in dispatch_shell\n",
      "    yield gen.maybe_future(handler(stream, idents, msg))\n",
      "  File \"/usr/lib/python3/dist-packages/tornado/gen.py\", line 209, in wrapper\n",
      "    yielded = next(result)\n",
      "  File \"/usr/lib/python3/dist-packages/ipykernel/kernelbase.py\", line 543, in execute_request\n",
      "    self.do_execute(\n",
      "  File \"/usr/lib/python3/dist-packages/tornado/gen.py\", line 209, in wrapper\n",
      "    yielded = next(result)\n",
      "  File \"/usr/lib/python3/dist-packages/ipykernel/ipkernel.py\", line 300, in do_execute\n",
      "    res = shell.run_cell(code, store_history=store_history, silent=silent)\n",
      "  File \"/usr/lib/python3/dist-packages/ipykernel/zmqshell.py\", line 536, in run_cell\n",
      "    return super(ZMQInteractiveShell, self).run_cell(*args, **kwargs)\n",
      "  File \"/usr/lib/python3/dist-packages/IPython/core/interactiveshell.py\", line 2857, in run_cell\n",
      "    result = self._run_cell(\n",
      "  File \"/usr/lib/python3/dist-packages/IPython/core/interactiveshell.py\", line 2886, in _run_cell\n",
      "    return runner(coro)\n",
      "  File \"/usr/lib/python3/dist-packages/IPython/core/async_helpers.py\", line 68, in _pseudo_sync_runner\n",
      "    coro.send(None)\n",
      "  File \"/usr/lib/python3/dist-packages/IPython/core/interactiveshell.py\", line 3062, in run_cell_async\n",
      "    has_raised = await self.run_ast_nodes(code_ast.body, cell_name,\n",
      "  File \"/usr/lib/python3/dist-packages/IPython/core/interactiveshell.py\", line 3254, in run_ast_nodes\n",
      "    if (await self.run_code(code, result,  async_=asy)):\n",
      "  File \"/usr/lib/python3/dist-packages/IPython/core/interactiveshell.py\", line 3331, in run_code\n",
      "    exec(code_obj, self.user_global_ns, self.user_ns)\n",
      "  File \"<ipython-input-76-fb1eaba42148>\", line 4, in <module>\n",
      "    b2 = b1 ** 2\n",
      " (Triggered internally at  ../torch/csrc/autograd/python_anomaly_mode.cpp:58.)\n",
      "  return Variable._execution_engine.run_backward(\n"
     ]
    },
    {
     "ename": "RuntimeError",
     "evalue": "one of the variables needed for gradient computation has been modified by an inplace operation: [torch.FloatTensor [5]], which is output 0 of AddBackward0, is at version 1; expected version 0 instead. Hint: the backtrace further above shows the operation that failed to compute its gradient. The variable in question was changed in there or anywhere later. Good luck!",
     "output_type": "error",
     "traceback": [
      "\u001b[0;31m---------------------------------------------------------------------------\u001b[0m",
      "\u001b[0;31mRuntimeError\u001b[0m                              Traceback (most recent call last)",
      "\u001b[0;32m<ipython-input-76-fb1eaba42148>\u001b[0m in \u001b[0;36m<module>\u001b[0;34m\u001b[0m\n\u001b[1;32m      5\u001b[0m     \u001b[0mb1\u001b[0m \u001b[0;34m+=\u001b[0m \u001b[0;36m1\u001b[0m\u001b[0;34m\u001b[0m\u001b[0;34m\u001b[0m\u001b[0m\n\u001b[1;32m      6\u001b[0m \u001b[0;34m\u001b[0m\u001b[0m\n\u001b[0;32m----> 7\u001b[0;31m     \u001b[0mtorch\u001b[0m\u001b[0;34m.\u001b[0m\u001b[0mautograd\u001b[0m\u001b[0;34m.\u001b[0m\u001b[0mgrad\u001b[0m\u001b[0;34m(\u001b[0m\u001b[0mb2\u001b[0m\u001b[0;34m.\u001b[0m\u001b[0msum\u001b[0m\u001b[0;34m(\u001b[0m\u001b[0;34m)\u001b[0m\u001b[0;34m,\u001b[0m \u001b[0ma\u001b[0m\u001b[0;34m)\u001b[0m \u001b[0;31m# this would need the original b1\u001b[0m\u001b[0;34m\u001b[0m\u001b[0;34m\u001b[0m\u001b[0m\n\u001b[0m",
      "\u001b[0;32m/usr/local/lib/python3.8/dist-packages/torch/autograd/__init__.py\u001b[0m in \u001b[0;36mgrad\u001b[0;34m(outputs, inputs, grad_outputs, retain_graph, create_graph, only_inputs, allow_unused)\u001b[0m\n\u001b[1;32m    188\u001b[0m         \u001b[0mretain_graph\u001b[0m \u001b[0;34m=\u001b[0m \u001b[0mcreate_graph\u001b[0m\u001b[0;34m\u001b[0m\u001b[0;34m\u001b[0m\u001b[0m\n\u001b[1;32m    189\u001b[0m \u001b[0;34m\u001b[0m\u001b[0m\n\u001b[0;32m--> 190\u001b[0;31m     return Variable._execution_engine.run_backward(\n\u001b[0m\u001b[1;32m    191\u001b[0m         \u001b[0moutputs\u001b[0m\u001b[0;34m,\u001b[0m \u001b[0mgrad_outputs\u001b[0m\u001b[0;34m,\u001b[0m \u001b[0mretain_graph\u001b[0m\u001b[0;34m,\u001b[0m \u001b[0mcreate_graph\u001b[0m\u001b[0;34m,\u001b[0m\u001b[0;34m\u001b[0m\u001b[0;34m\u001b[0m\u001b[0m\n\u001b[1;32m    192\u001b[0m         inputs, allow_unused)\n",
      "\u001b[0;31mRuntimeError\u001b[0m: one of the variables needed for gradient computation has been modified by an inplace operation: [torch.FloatTensor [5]], which is output 0 of AddBackward0, is at version 1; expected version 0 instead. Hint: the backtrace further above shows the operation that failed to compute its gradient. The variable in question was changed in there or anywhere later. Good luck!"
     ]
    }
   ],
   "source": [
    "with torch.autograd.detect_anomaly():\n",
    "    a = torch.randn(5, requires_grad=True)\n",
    "    b1 = a + 1\n",
    "    b2 = b1 ** 2\n",
    "    b1 += 1\n",
    "\n",
    "    torch.autograd.grad(b2.sum(), a) # this would need the original b1"
   ]
  },
  {
   "cell_type": "markdown",
   "metadata": {
    "slideshow": {
     "slide_type": "slide"
    }
   },
   "source": [
    "There are some opportunities where inplace is actually very useful. One of my faviourite tricks is to copy things into a preallocated tensor."
   ]
  },
  {
   "cell_type": "code",
   "execution_count": 126,
   "metadata": {},
   "outputs": [
    {
     "data": {
      "text/plain": [
       "tensor([[ 0.0000,  0.0000,  0.0000,  0.0000,  0.0000,  0.0000,  0.0000],\n",
       "        [ 0.0000, -0.5332,  0.6860,  0.4682,  0.4917, -0.1872,  0.0000],\n",
       "        [ 0.0000,  0.8903, -0.6102, -0.2333, -1.0516,  1.2936,  0.0000],\n",
       "        [ 0.0000,  0.0000,  0.0000,  0.0000,  0.0000,  0.0000,  0.0000]],\n",
       "       grad_fn=<CopySlices>)"
      ]
     },
     "execution_count": 126,
     "metadata": {},
     "output_type": "execute_result"
    }
   ],
   "source": [
    "a = torch.randn(5, requires_grad=True)\n",
    "b = torch.randn(5, requires_grad=True)\n",
    "c = torch.zeros(4, 7)  # padded torch.stack([a,b])\n",
    "c[1, 1:-1] = a\n",
    "c[2, 1:-1] = b\n",
    "c"
   ]
  },
  {
   "cell_type": "code",
   "execution_count": 127,
   "metadata": {},
   "outputs": [],
   "source": [
    "gr_a, gr_b = torch.autograd.grad(c.sum(), [a, b])\n",
    "assert (gr_a -1).abs().max().item() < 1e-6 and (gr_b -1).abs().max().item() < 1e-6  # float and \"==\" don't mix well"
   ]
  },
  {
   "cell_type": "markdown",
   "metadata": {
    "slideshow": {
     "slide_type": "slide"
    }
   },
   "source": [
    "## Inplace Summary\n",
    "\n",
    "\n",
    "There are two main situations where inplace operations cannot be used:\n",
    "\n",
    "- When operating on leaf tensors, the leaf tensor would be moved into the graph, which would be bad.\n",
    "- When the operation before the inplace wants to have its result to compute the backward. Whether this is the case is not easy to tell from the outside, unfortunately.\n",
    "\n",
    "As a corollary, you should avoid using inplace on the inputs of your re-usable module lest in the future use could be in one of the two situations.\n",
    "\n",
    "Later: You might also be less eager to use inplace when planning to use the JIT, as it will fuse pointwise non-inplace operations like ReLU if there are several in a row.\n"
   ]
  },
  {
   "cell_type": "markdown",
   "metadata": {
    "slideshow": {
     "slide_type": "slide"
    }
   },
   "source": [
    "For validation, inference or other things where the *end user* decides she does not want gradients, there is the `torch.no_grad` context manager.\n",
    "\n",
    "We'll use it below to evaluate models after training.\n",
    "\n",
    "- If you need to use `torch.no_grad()` somewhere where it isn’t because you’re evaluating something that’s written for training, you should ask yourself if you’re doing it wrong.\n",
    "\n",
    "- Using item and detach for things to keep around longer than the next backward is generally a good idea (e.g. when you record loss history, statistics, …), but be careful to not ruin your graph. (Targeted detach is good in nn.Module subclass code, with torch.no_grad() should be needed very rarely.)"
   ]
  },
  {
   "cell_type": "markdown",
   "metadata": {
    "slideshow": {
     "slide_type": "slide"
    }
   },
   "source": [
    "It is not true that tensors created in `torch.no_grad` never require grad (as often views are special):"
   ]
  },
  {
   "cell_type": "code",
   "execution_count": 131,
   "metadata": {},
   "outputs": [
    {
     "data": {
      "text/plain": [
       "(tensor([[ 1.3109, -0.6265,  4.3590,  0.4575,  0.5929],\n",
       "         [-0.6509, -1.5295,  3.8620,  1.6638,  1.4180],\n",
       "         [ 0.9695, -2.1286,  0.7458,  1.1742,  2.9316],\n",
       "         [-3.2745,  1.4786, -0.0544,  0.3168, -3.0500],\n",
       "         [ 2.2226, -2.8139, -2.3990,  4.7595,  1.5307]]),\n",
       " tensor([[ 0.6554, -0.3133],\n",
       "         [-0.3255, -0.7648]], requires_grad=True))"
      ]
     },
     "execution_count": 131,
     "metadata": {},
     "output_type": "execute_result"
    }
   ],
   "source": [
    "a = torch.randn(5, 5, requires_grad=True)\n",
    "\n",
    "with torch.no_grad():\n",
    "    b = a * 2\n",
    "    c = a[:2, :2]\n",
    "\n",
    "b, c"
   ]
  },
  {
   "cell_type": "markdown",
   "metadata": {
    "slideshow": {
     "slide_type": "slide"
    }
   },
   "source": [
    "### Second derivatives\n",
    "\n",
    "You cannot get Hessians, but you can get Hessian vector products or really derivatives of any scalar function of the gradient."
   ]
  },
  {
   "cell_type": "code",
   "execution_count": 129,
   "metadata": {},
   "outputs": [
    {
     "data": {
      "text/plain": [
       "(tensor([0., 1., 2., 3., 4.], requires_grad=True),\n",
       " tensor([  0.,  12.,  48., 108., 192.]))"
      ]
     },
     "execution_count": 129,
     "metadata": {},
     "output_type": "execute_result"
    }
   ],
   "source": [
    "a = torch.arange(5., requires_grad=True)\n",
    "b = a ** 4\n",
    "gr, = torch.autograd.grad(b.sum(), [a], create_graph=True)\n",
    "hvp, = torch.autograd.grad(gr.sum(), [a])  # what is the vector in HVP?\n",
    "a, hvp # 4 * 3 * x"
   ]
  },
  {
   "cell_type": "markdown",
   "metadata": {
    "slideshow": {
     "slide_type": "slide"
    }
   },
   "source": [
    "\n",
    "\n",
    "## `backward` as a convenience method\n",
    "\n",
    "Above we used `torch.autograd.grad`. More commonly, you find `loss.backward()`. This is a convenience method for computing the gradient of all leaves `t` and storing the gradient in `t.grad`.\n",
    "In particular, PyTorch's built-in optimizers use these.\n",
    "\n",
    "You can ask for a gradient of an intermediate to be stored by `t.retain_grad()`.\n",
    "\n",
    "My advice: Only use backward to get gradients to then use with the optimizer. Don't use backward with \n",
    "`create_graph`."
   ]
  },
  {
   "cell_type": "markdown",
   "metadata": {
    "slideshow": {
     "slide_type": "slide"
    }
   },
   "source": [
    "## A fun trick\n",
    "\n",
    "Sometimes, we want the backward to not quite be like the forward. Round obviously has gradient 0, but wouldn't it be sometimes be convenient if..."
   ]
  },
  {
   "cell_type": "code",
   "execution_count": 139,
   "metadata": {},
   "outputs": [
    {
     "data": {
      "text/plain": [
       "tensor([0., 0., 0., 0., 0.])"
      ]
     },
     "execution_count": 139,
     "metadata": {},
     "output_type": "execute_result"
    }
   ],
   "source": [
    "a = torch.randn(5, requires_grad=True)\n",
    "b = a.round()\n",
    "gr, = torch.autograd.grad(b.sum(), [a])\n",
    "gr"
   ]
  },
  {
   "cell_type": "markdown",
   "metadata": {
    "slideshow": {
     "slide_type": "slide"
    }
   },
   "source": [
    "...we can actually do that (not this construction, but the same rounding trick is the gist of \"quantization aware training\", other things like \"gumble softmax\" also work like this):"
   ]
  },
  {
   "cell_type": "code",
   "execution_count": 140,
   "metadata": {},
   "outputs": [
    {
     "data": {
      "text/plain": [
       "(True, tensor([1., 1., 1., 1., 1.]))"
      ]
     },
     "execution_count": 140,
     "metadata": {},
     "output_type": "execute_result"
    }
   ],
   "source": [
    "def differentiable_round(a, ndigits=None):\n",
    "    if ndigits is None:\n",
    "        b = a.round()\n",
    "    else:\n",
    "        scale = 10 ** ndigits\n",
    "        b = (a * scale).round() / scale\n",
    "    return a + (b - a).detach()  # PyTorch's version of \"cleverly add 0\"\n",
    "c = differentiable_round(a)\n",
    "gr2, = torch.autograd.grad(c.sum(), [a])\n",
    "(c == b).all().item(), gr2"
   ]
  },
  {
   "cell_type": "markdown",
   "metadata": {
    "slideshow": {
     "slide_type": "slide"
    }
   },
   "source": [
    "Fake quantization training the hard way"
   ]
  },
  {
   "cell_type": "code",
   "execution_count": 144,
   "metadata": {
    "slideshow": {
     "slide_type": "-"
    }
   },
   "outputs": [],
   "source": [
    "w1 = torch.randn(1, 10, requires_grad=True)\n",
    "b1 = torch.randn(10, requires_grad=True)\n",
    "w2 = torch.randn(10, 1, requires_grad=True)\n",
    "b2 = torch.randn(1, requires_grad=True)\n",
    "params = [w1, b1, w2, b2]\n",
    "\n",
    "\n",
    "for i in range(200):\n",
    "    x = torch.randn(10, 1)\n",
    "    target = torch.sin(2 * x)\n",
    "\n",
    "    xr = differentiable_round(x)\n",
    "    w1r = differentiable_round(w1, 0.5)\n",
    "    b1r = differentiable_round(b1, 0.5)\n",
    "    w2r = differentiable_round(w2, 0.5)\n",
    "    b2r = differentiable_round(b2, 0.5)\n",
    "    pred = torch.tanh(xr @ w1r + b1r) @ w2r + b2r\n",
    "\n",
    "    loss = ((pred - target) ** 2).sum()\n",
    "\n",
    "    grads = torch.autograd.grad(loss, params)\n",
    "\n",
    "    for p, g in zip(params, grads):\n",
    "        with torch.no_grad():\n",
    "            p -= 1e-2 * g"
   ]
  },
  {
   "cell_type": "markdown",
   "metadata": {
    "slideshow": {
     "slide_type": "slide"
    }
   },
   "source": [
    "Did it work?"
   ]
  },
  {
   "cell_type": "code",
   "execution_count": 145,
   "metadata": {
    "slideshow": {
     "slide_type": "-"
    }
   },
   "outputs": [
    {
     "data": {
      "text/plain": [
       "<matplotlib.legend.Legend at 0x7f70ab4279a0>"
      ]
     },
     "execution_count": 145,
     "metadata": {},
     "output_type": "execute_result"
    },
    {
     "data": {
      "image/png": "[encoded data removed]",
      "text/plain": [
       "<Figure size 432x288 with 1 Axes>"
      ]
     },
     "metadata": {
      "needs_background": "light"
     },
     "output_type": "display_data"
    }
   ],
   "source": [
    "with torch.no_grad(): # no gradients here...\n",
    "    w1r = differentiable_round(w1, 0.5)\n",
    "    b1r = differentiable_round(b1, 0.5)\n",
    "    w2r = differentiable_round(w2, 0.5)\n",
    "    b2r = differentiable_round(b2, 0.5)\n",
    "    x0 = torch.linspace(-2, 2)\n",
    "    final_preds = torch.tanh(x0[:, None] @ w1r + b1r) @ w2r + b2r\n",
    "    gt = torch.sin(2*x0)\n",
    "\n",
    "pyplot.plot(x0, final_preds, label='fit')\n",
    "pyplot.plot(x0, gt, label='ground truth')\n",
    "pyplot.legend()"
   ]
  },
  {
   "cell_type": "markdown",
   "metadata": {
    "slideshow": {
     "slide_type": "slide"
    }
   },
   "source": [
    "## Own Autograd functions\n",
    "\n",
    "Let's consider $f : \\mathbb{R}^n \\rightarrow \\mathbb{R}^m$ implicitly given by $F(x,f(x))=0$ for some function $F : \\mathbb{R}^n \\times \\mathbb{R}^m \\rightarrow \\mathbb{R}$.\n",
    "\n",
    "For nice (smooth, nondegenerate) functions, the [implicit function theorem](https://en.wikipedia.org/wiki/Implicit_function_theorem)\n",
    "gives us:\n",
    "\n",
    "Given $x,y$ such that $F(x,y) = 0$ there is a neighborhood $U\\ni x$ and a function $f$ such that $f(x)=y$ and $F(x,f(x))=0$. And if $F$ is nice enough, we can also compute the derivative of $f$ at $x$, namely  $\\frac{df}{dx}(x) = - (\\frac{dF}{dy}(x,y))^{-1} \\frac{dF}{dx}(x,y)$.\n",
    "\n",
    "Given $F$ in PyTorch, can we define $f$ and backpropagate through the computation?\n",
    "\n",
    "$\\Rightarrow$ Need to extend autograd."
   ]
  },
  {
   "cell_type": "code",
   "execution_count": 146,
   "metadata": {
    "slideshow": {
     "slide_type": "slide"
    }
   },
   "outputs": [],
   "source": [
    "class Implicit(torch.autograd.Function):  # derive autograd.Function\n",
    "    @staticmethod\n",
    "    def forward(ctx, x, y0, F, max_iter=100):  # Context ctx as special first parameter to static method forward\n",
    "        with torch.enable_grad():\n",
    "            y = y0.clone().detach().requires_grad_()\n",
    "            xv = x.detach()\n",
    "            opt = torch.optim.LBFGS([y], max_iter=max_iter)  # numerical search for y s.t. F(x, y) = 0\n",
    "            def reevaluate():\n",
    "                opt.zero_grad()\n",
    "                z = F(xv,y)**2\n",
    "                z.backward()\n",
    "                return z\n",
    "            opt.step(reevaluate)\n",
    "        ctx._the_function = F                 # save non-tensors\n",
    "        ctx.save_for_backward(x, y)           # safely save tensors\n",
    "        return y\n",
    "    @staticmethod\n",
    "    def backward(ctx, output_grad):          # ouput_grad = dl / dy\n",
    "        x, y = ctx.saved_tensors             # get the saved tensors\n",
    "        F = ctx._the_function                # other arguments\n",
    "        with torch.enable_grad():\n",
    "            xv = x.detach().requires_grad_()\n",
    "            y = y.detach().requires_grad_()\n",
    "            z = F(xv,y)\n",
    "            z.backward()\n",
    "        return -xv.grad/y.grad*output_grad, None, None, None  # return dl / dx and None for all other inputs\n"
   ]
  },
  {
   "cell_type": "markdown",
   "metadata": {
    "slideshow": {
     "slide_type": "slide"
    }
   },
   "source": [
    "Let's try it on a simple case:"
   ]
  },
  {
   "cell_type": "code",
   "execution_count": 150,
   "metadata": {
    "slideshow": {
     "slide_type": "-"
    }
   },
   "outputs": [
    {
     "name": "stdout",
     "output_type": "stream",
     "text": [
      "tensor([0.8660], dtype=torch.float64, grad_fn=<ImplicitBackward>) 0.8660254037844386\n"
     ]
    },
    {
     "data": {
      "text/plain": [
       "(tensor([-0.5774], dtype=torch.float64),\n",
       " tensor([-0.5774], dtype=torch.float64))"
      ]
     },
     "execution_count": 150,
     "metadata": {},
     "output_type": "execute_result"
    }
   ],
   "source": [
    "def circle(x,y):\n",
    "    return x**2+y**2-1  # 0-set = unit circle\n",
    "\n",
    "x = torch.tensor([0.5], dtype=torch.double, requires_grad=True)\n",
    "y0 = torch.tensor([0.5], dtype=torch.double) # starting value\n",
    "y= Implicit.apply(x, y0, circle)    # this is how to use our new function\n",
    "print (y, (1-0.5**2)**0.5)\n",
    "gr, = torch.autograd.grad(y, x)\n",
    "gr_exp, = torch.autograd.grad((1-x**2)**0.5, [x])\n",
    "gr, gr_exp"
   ]
  },
  {
   "cell_type": "markdown",
   "metadata": {
    "slideshow": {
     "slide_type": "-"
    }
   },
   "source": [
    "We could now backpropagate through it, too."
   ]
  },
  {
   "cell_type": "markdown",
   "metadata": {
    "slideshow": {
     "slide_type": "slide"
    }
   },
   "source": [
    "# PyTorch is ... a Neural Network (and general Modelling) Library\n",
    "\n",
    "`torch.nn.Module` and subclasses play the central role as Neural Network building blocks.\n",
    "Modules are for bundling neural network *state*, i.e. Parameters, other Buffers, Submodules, with the rules to compute outputs from inputs.\n",
    "- Parameters: wrap in torch.nn.Parameter + assign\n",
    "- Buffers (Tensors noch trained via SGD, e.g. statistics): register_buffer\n",
    "- Submodules: assign"
   ]
  },
  {
   "cell_type": "markdown",
   "metadata": {
    "slideshow": {
     "slide_type": "slide"
    }
   },
   "source": [
    "Here is the equivalent of our previous model:"
   ]
  },
  {
   "cell_type": "code",
   "execution_count": 154,
   "metadata": {
    "slideshow": {
     "slide_type": "-"
    }
   },
   "outputs": [
    {
     "data": {
      "text/plain": [
       "Parameter containing:\n",
       "tensor([[-0.0402,  0.4051,  1.1690,  1.5080, -0.8784,  0.3175, -0.5835, -0.1512,\n",
       "         -0.7263, -0.6137]], device='cuda:0', requires_grad=True)"
      ]
     },
     "execution_count": 154,
     "metadata": {},
     "output_type": "execute_result"
    }
   ],
   "source": [
    "class MyModel(torch.nn.Module):\n",
    "    def __init__(self):\n",
    "        super().__init__()\n",
    "        self.w1 = torch.nn.Parameter(torch.randn(1, 10))\n",
    "        self.b1 = torch.nn.Parameter(torch.randn(10))\n",
    "        self.w2 = torch.nn.Parameter(torch.randn(10, 1))\n",
    "        self.b2 = torch.nn.Parameter(torch.randn(1))\n",
    "  \n",
    "    def forward(self, x):\n",
    "        return torch.tanh(x @ self.w1 + self.b1) @ self.w2 + self.b2\n",
    "\n",
    "model = MyModel()\n",
    "model.to(device=\"cuda\")\n",
    "model.w1"
   ]
  },
  {
   "cell_type": "markdown",
   "metadata": {
    "slideshow": {
     "slide_type": "slide"
    }
   },
   "source": [
    "A rich library of pre-made modules under `torch.nn`.\n",
    "- `torch.nn.Linear`, `Conv2d`, `MaxPool2D`, `Tanh`, ...\n",
    "Also loss functions:\n",
    "- `CrossEntropyLoss`, `MSELoss`, `CTCLoss`...\n",
    "\n",
    "Careful: Naming `CrossEntropyLoss` vs. `NLLLoss` etc. is particular to PyTorch. Check the documentation for PyTorch's expectation of whether input have `softmax` / `log_softmax`  / something else applied."
   ]
  },
  {
   "cell_type": "markdown",
   "metadata": {
    "slideshow": {
     "slide_type": "slide"
    }
   },
   "source": [
    "We can make our model again with these:"
   ]
  },
  {
   "cell_type": "code",
   "execution_count": 164,
   "metadata": {},
   "outputs": [
    {
     "data": {
      "text/plain": [
       "MyModel(\n",
       "  (l1): Linear(in_features=1, out_features=10, bias=True)\n",
       "  (l2): Linear(in_features=10, out_features=1, bias=True)\n",
       ")"
      ]
     },
     "execution_count": 164,
     "metadata": {},
     "output_type": "execute_result"
    }
   ],
   "source": [
    "class MyModel(torch.nn.Module):\n",
    "    def __init__(self):\n",
    "        super().__init__()\n",
    "        self.l1 = torch.nn.Linear(1, 10)\n",
    "        self.l2 = torch.nn.Linear(10, 1)\n",
    "  \n",
    "    def forward(self, x):\n",
    "        x = torch.tanh(self.l1(x))\n",
    "        return self.l2(x)\n",
    "\n",
    "model = MyModel()\n",
    "model"
   ]
  },
  {
   "cell_type": "markdown",
   "metadata": {
    "slideshow": {
     "slide_type": "slide"
    }
   },
   "source": [
    "There also is a `Sequential` class for particularly simple \"chains\" of modules (with only one input/output)."
   ]
  },
  {
   "cell_type": "code",
   "execution_count": 159,
   "metadata": {
    "scrolled": true
   },
   "outputs": [
    {
     "data": {
      "image/svg+xml": [
       "<?xml version=\"1.0\" encoding=\"UTF-8\" standalone=\"no\"?>\n",
       "<!DOCTYPE svg PUBLIC \"-//W3C//DTD SVG 1.1//EN\"\n",
       " \"http://www.w3.org/Graphics/SVG/1.1/DTD/svg11.dtd\">\n",
       "<!-- Generated by graphviz version 2.43.0 (0)\n",
       " -->\n",
       "<!-- Title: %3 Pages: 1 -->\n",
       "<svg width=\"900pt\" height=\"332pt\"\n",
       " viewBox=\"0.00 0.00 899.62 332.00\" xmlns=\"http://www.w3.org/2000/svg\" xmlns:xlink=\"http://www.w3.org/1999/xlink\">\n",
       "<g id=\"graph0\" class=\"graph\" transform=\"scale(1 1) rotate(0) translate(4 328)\">\n",
       "<title>%3</title>\n",
       "<polygon fill=\"white\" stroke=\"transparent\" points=\"-4,4 -4,-328 895.62,-328 895.62,4 -4,4\"/>\n",
       "<!-- 140121887213184 -->\n",
       "<g id=\"node1\" class=\"node\">\n",
       "<title>140121887213184</title>\n",
       "<ellipse fill=\"none\" stroke=\"black\" cx=\"473.64\" cy=\"-18\" rx=\"116.18\" ry=\"18\"/>\n",
       "<text text-anchor=\"middle\" x=\"473.64\" y=\"-14.3\" font-family=\"Times,serif\" font-size=\"14.00\">res (AddmmBackward)</text>\n",
       "</g>\n",
       "<!-- 140121887973184 -->\n",
       "<g id=\"node2\" class=\"node\">\n",
       "<title>140121887973184</title>\n",
       "<ellipse fill=\"none\" stroke=\"black\" cx=\"219.64\" cy=\"-90\" rx=\"156.77\" ry=\"18\"/>\n",
       "<text text-anchor=\"middle\" x=\"219.64\" y=\"-86.3\" font-family=\"Times,serif\" font-size=\"14.00\">model:2.bias (AccumulateGrad)</text>\n",
       "</g>\n",
       "<!-- 140121887973184&#45;&gt;140121887213184 -->\n",
       "<g id=\"edge1\" class=\"edge\">\n",
       "<title>140121887973184&#45;&gt;140121887213184</title>\n",
       "<path fill=\"none\" stroke=\"black\" d=\"M276.96,-73.2C316.29,-62.36 368.54,-47.96 409.3,-36.73\"/>\n",
       "<polygon fill=\"black\" stroke=\"black\" points=\"410.43,-40.05 419.14,-34.02 408.57,-33.3 410.43,-40.05\"/>\n",
       "</g>\n",
       "<!-- 8757618106727 -->\n",
       "<g id=\"node3\" class=\"node\">\n",
       "<title>8757618106727</title>\n",
       "<ellipse fill=\"none\" stroke=\"black\" cx=\"473.64\" cy=\"-90\" rx=\"79.09\" ry=\"18\"/>\n",
       "<text text-anchor=\"middle\" x=\"473.64\" y=\"-86.3\" font-family=\"Times,serif\" font-size=\"14.00\">TanhBackward</text>\n",
       "</g>\n",
       "<!-- 8757618106727&#45;&gt;140121887213184 -->\n",
       "<g id=\"edge7\" class=\"edge\">\n",
       "<title>8757618106727&#45;&gt;140121887213184</title>\n",
       "<path fill=\"none\" stroke=\"black\" d=\"M473.64,-71.7C473.64,-63.98 473.64,-54.71 473.64,-46.11\"/>\n",
       "<polygon fill=\"black\" stroke=\"black\" points=\"477.14,-46.1 473.64,-36.1 470.14,-46.1 477.14,-46.1\"/>\n",
       "</g>\n",
       "<!-- 8757618106745 -->\n",
       "<g id=\"node4\" class=\"node\">\n",
       "<title>8757618106745</title>\n",
       "<ellipse fill=\"none\" stroke=\"black\" cx=\"443.64\" cy=\"-162\" rx=\"92.08\" ry=\"18\"/>\n",
       "<text text-anchor=\"middle\" x=\"443.64\" y=\"-158.3\" font-family=\"Times,serif\" font-size=\"14.00\">AddmmBackward</text>\n",
       "</g>\n",
       "<!-- 8757618106745&#45;&gt;8757618106727 -->\n",
       "<g id=\"edge6\" class=\"edge\">\n",
       "<title>8757618106745&#45;&gt;8757618106727</title>\n",
       "<path fill=\"none\" stroke=\"black\" d=\"M450.9,-144.05C454.31,-136.09 458.46,-126.41 462.27,-117.51\"/>\n",
       "<polygon fill=\"black\" stroke=\"black\" points=\"465.51,-118.85 466.23,-108.28 459.08,-116.09 465.51,-118.85\"/>\n",
       "</g>\n",
       "<!-- 140121887972800 -->\n",
       "<g id=\"node5\" class=\"node\">\n",
       "<title>140121887972800</title>\n",
       "<ellipse fill=\"none\" stroke=\"black\" cx=\"156.64\" cy=\"-234\" rx=\"156.77\" ry=\"18\"/>\n",
       "<text text-anchor=\"middle\" x=\"156.64\" y=\"-230.3\" font-family=\"Times,serif\" font-size=\"14.00\">model:0.bias (AccumulateGrad)</text>\n",
       "</g>\n",
       "<!-- 140121887972800&#45;&gt;8757618106745 -->\n",
       "<g id=\"edge2\" class=\"edge\">\n",
       "<title>140121887972800&#45;&gt;8757618106745</title>\n",
       "<path fill=\"none\" stroke=\"black\" d=\"M220.33,-217.46C267.35,-206 331.14,-190.44 378.5,-178.89\"/>\n",
       "<polygon fill=\"black\" stroke=\"black\" points=\"379.46,-182.26 388.35,-176.49 377.8,-175.45 379.46,-182.26\"/>\n",
       "</g>\n",
       "<!-- 140121890061312 -->\n",
       "<g id=\"node6\" class=\"node\">\n",
       "<title>140121890061312</title>\n",
       "<ellipse fill=\"none\" stroke=\"black\" cx=\"443.64\" cy=\"-234\" rx=\"112.38\" ry=\"18\"/>\n",
       "<text text-anchor=\"middle\" x=\"443.64\" y=\"-230.3\" font-family=\"Times,serif\" font-size=\"14.00\">inp (AccumulateGrad)</text>\n",
       "</g>\n",
       "<!-- 140121890061312&#45;&gt;8757618106745 -->\n",
       "<g id=\"edge3\" class=\"edge\">\n",
       "<title>140121890061312&#45;&gt;8757618106745</title>\n",
       "<path fill=\"none\" stroke=\"black\" d=\"M443.64,-215.7C443.64,-207.98 443.64,-198.71 443.64,-190.11\"/>\n",
       "<polygon fill=\"black\" stroke=\"black\" points=\"447.14,-190.1 443.64,-180.1 440.14,-190.1 447.14,-190.1\"/>\n",
       "</g>\n",
       "<!-- 8757618106871 -->\n",
       "<g id=\"node7\" class=\"node\">\n",
       "<title>8757618106871</title>\n",
       "<ellipse fill=\"none\" stroke=\"black\" cx=\"636.64\" cy=\"-234\" rx=\"62.29\" ry=\"18\"/>\n",
       "<text text-anchor=\"middle\" x=\"636.64\" y=\"-230.3\" font-family=\"Times,serif\" font-size=\"14.00\">TBackward</text>\n",
       "</g>\n",
       "<!-- 8757618106871&#45;&gt;8757618106745 -->\n",
       "<g id=\"edge5\" class=\"edge\">\n",
       "<title>8757618106871&#45;&gt;8757618106745</title>\n",
       "<path fill=\"none\" stroke=\"black\" d=\"M599.42,-219.5C569.71,-208.73 527.76,-193.51 494.88,-181.59\"/>\n",
       "<polygon fill=\"black\" stroke=\"black\" points=\"496.02,-178.28 485.43,-178.16 493.63,-184.86 496.02,-178.28\"/>\n",
       "</g>\n",
       "<!-- 140121887972224 -->\n",
       "<g id=\"node8\" class=\"node\">\n",
       "<title>140121887972224</title>\n",
       "<ellipse fill=\"none\" stroke=\"black\" cx=\"636.64\" cy=\"-306\" rx=\"168.97\" ry=\"18\"/>\n",
       "<text text-anchor=\"middle\" x=\"636.64\" y=\"-302.3\" font-family=\"Times,serif\" font-size=\"14.00\">model:0.weight (AccumulateGrad)</text>\n",
       "</g>\n",
       "<!-- 140121887972224&#45;&gt;8757618106871 -->\n",
       "<g id=\"edge4\" class=\"edge\">\n",
       "<title>140121887972224&#45;&gt;8757618106871</title>\n",
       "<path fill=\"none\" stroke=\"black\" d=\"M636.64,-287.7C636.64,-279.98 636.64,-270.71 636.64,-262.11\"/>\n",
       "<polygon fill=\"black\" stroke=\"black\" points=\"640.14,-262.1 636.64,-252.1 633.14,-262.1 640.14,-262.1\"/>\n",
       "</g>\n",
       "<!-- 8757618106817 -->\n",
       "<g id=\"node9\" class=\"node\">\n",
       "<title>8757618106817</title>\n",
       "<ellipse fill=\"none\" stroke=\"black\" cx=\"692.64\" cy=\"-90\" rx=\"62.29\" ry=\"18\"/>\n",
       "<text text-anchor=\"middle\" x=\"692.64\" y=\"-86.3\" font-family=\"Times,serif\" font-size=\"14.00\">TBackward</text>\n",
       "</g>\n",
       "<!-- 8757618106817&#45;&gt;140121887213184 -->\n",
       "<g id=\"edge9\" class=\"edge\">\n",
       "<title>8757618106817&#45;&gt;140121887213184</title>\n",
       "<path fill=\"none\" stroke=\"black\" d=\"M652.47,-76.16C618.69,-65.36 569.96,-49.79 531.89,-37.62\"/>\n",
       "<polygon fill=\"black\" stroke=\"black\" points=\"532.55,-34.16 521.96,-34.45 530.42,-40.82 532.55,-34.16\"/>\n",
       "</g>\n",
       "<!-- 140121887969472 -->\n",
       "<g id=\"node10\" class=\"node\">\n",
       "<title>140121887969472</title>\n",
       "<ellipse fill=\"none\" stroke=\"black\" cx=\"722.64\" cy=\"-162\" rx=\"168.97\" ry=\"18\"/>\n",
       "<text text-anchor=\"middle\" x=\"722.64\" y=\"-158.3\" font-family=\"Times,serif\" font-size=\"14.00\">model:2.weight (AccumulateGrad)</text>\n",
       "</g>\n",
       "<!-- 140121887969472&#45;&gt;8757618106817 -->\n",
       "<g id=\"edge8\" class=\"edge\">\n",
       "<title>140121887969472&#45;&gt;8757618106817</title>\n",
       "<path fill=\"none\" stroke=\"black\" d=\"M715.22,-143.7C711.84,-135.81 707.77,-126.3 704.01,-117.55\"/>\n",
       "<polygon fill=\"black\" stroke=\"black\" points=\"707.12,-115.92 699.97,-108.1 700.69,-118.67 707.12,-115.92\"/>\n",
       "</g>\n",
       "</g>\n",
       "</svg>\n"
      ],
      "text/plain": [
       "<graphviz.dot.Digraph at 0x7f70ab761a30>"
      ]
     },
     "execution_count": 159,
     "metadata": {},
     "output_type": "execute_result"
    }
   ],
   "source": [
    "model = torch.nn.Sequential(\n",
    "            torch.nn.Linear(1, 10),\n",
    "            torch.nn.Tanh(),\n",
    "            torch.nn.Linear(10, 1))\n",
    "\n",
    "inp = torch.randn(5, 1, requires_grad=True)\n",
    "res = model(inp)\n",
    "ptgraph(res)"
   ]
  },
  {
   "cell_type": "markdown",
   "metadata": {
    "slideshow": {
     "slide_type": "slide"
    }
   },
   "source": [
    "Task: Can you subclass sequential to get a model class?"
   ]
  },
  {
   "cell_type": "markdown",
   "metadata": {
    "slideshow": {
     "slide_type": "slide"
    }
   },
   "source": [
    "### Loading and Saving models\n",
    "\n",
    "While you can save and load models using `torch.save` and `torch.load`, it is generally not recommended.\n",
    "\n",
    "Instead, save the state dict and upon loading instantiate the model and load the state dict. This is much better for forward compatibility.\n"
   ]
  },
  {
   "cell_type": "code",
   "execution_count": 166,
   "metadata": {},
   "outputs": [
    {
     "data": {
      "text/plain": [
       "<All keys matched successfully>"
      ]
     },
     "execution_count": 166,
     "metadata": {},
     "output_type": "execute_result"
    }
   ],
   "source": [
    "torch.save(model.state_dict(), 'saved_model.pt')\n",
    "sd = torch.load('saved_model.pt')\n",
    "model.load_state_dict(sd)\n"
   ]
  },
  {
   "cell_type": "markdown",
   "metadata": {
    "slideshow": {
     "slide_type": "slide"
    }
   },
   "source": [
    "## Some thoughts on functional vs. Module\n",
    "\n",
    "- If you write for re-use, the functional / Module split of PyTorch has turned out to be a good idea.\n",
    "\n",
    "- Use functional for stuff without state (unless you have a quick and dirty Sequential).\n",
    "\n",
    "- Never re-use modules (define one `torch.nn.ReLU` and use it 5 times). It's a trap!\n",
    "\n",
    "  When doing analysis or quantization (when `ReLU` becomes stateful due to quantization params), this will break.\n"
   ]
  },
  {
   "cell_type": "markdown",
   "metadata": {
    "slideshow": {
     "slide_type": "slide"
    }
   },
   "source": [
    "# PyTorch has ... optimizers\n",
    "\n",
    "In `torch.optim`.\n",
    "\n",
    "- Most common probably: `torch.optim.SGD`, `torch.optim.Adam`, but also `torch.optim.LBFGS` etc.\n",
    "- Schedules for the learning are also available.\n",
    "\n",
    "Pattern:\n",
    "- `loss = ...`\n",
    "- `opt.zero_grad()`\n",
    "- `loss.backward()`\n",
    "- `opt.step()`\n",
    "\n",
    "Optimizers also have a `state_dict` for saving / restoring."
   ]
  },
  {
   "cell_type": "markdown",
   "metadata": {
    "slideshow": {
     "slide_type": "slide"
    }
   },
   "source": [
    "Let's see that in action with our toy model:"
   ]
  },
  {
   "cell_type": "code",
   "execution_count": 167,
   "metadata": {
    "slideshow": {
     "slide_type": "-"
    }
   },
   "outputs": [],
   "source": [
    "model = torch.nn.Sequential(\n",
    "            torch.nn.Linear(1, 10),\n",
    "            torch.nn.Tanh(),\n",
    "            torch.nn.Linear(10, 1))\n",
    "\n",
    "opt = torch.optim.SGD(model.parameters(), lr=1e-2)\n",
    "\n",
    "for i in range(200):\n",
    "    x = torch.randn(10, 1)    # input  from dataset\n",
    "    target = torch.sin(2 * x) # target from dataset\n",
    "\n",
    "    pred = model(x)\n",
    "    loss = torch.nn.functional.mse_loss(pred, target, reduction='sum')\n",
    "    \n",
    "    opt.zero_grad()\n",
    "    loss.backward()\n",
    "    opt.step()"
   ]
  },
  {
   "cell_type": "code",
   "execution_count": 168,
   "metadata": {
    "slideshow": {
     "slide_type": "slide"
    }
   },
   "outputs": [
    {
     "data": {
      "image/png": "[encoded data removed]",
      "text/plain": [
       "<Figure size 432x288 with 1 Axes>"
      ]
     },
     "metadata": {
      "needs_background": "light"
     },
     "output_type": "display_data"
    }
   ],
   "source": [
    "with torch.no_grad():\n",
    "    x0 = torch.linspace(-2, 2)\n",
    "    pyplot.plot(x0, model(x0[:, None]).detach(), alpha=0.3)\n",
    "    pyplot.plot(x0, torch.sin(2 * x0), linewidth=5)"
   ]
  },
  {
   "cell_type": "markdown",
   "metadata": {
    "slideshow": {
     "slide_type": "slide"
    }
   },
   "source": [
    "# PyTorch has ... utilities for data handling\n",
    "\n",
    "PyTorch splits data handling in two parts:\n",
    "- Problem specific (DataSet)\n",
    "- Generic, e.g. Sampling, Batching (DataLoader)\n",
    "\n",
    "User's responsibility: Define `torch.utils.data.DataSet` subclass with\n",
    "- a `__len__` method (how many data points)\n",
    "- a `__getitem__` method to get the `i`th element, returning tuples of numbers and tensors\n",
    "\n",
    "`DataLoader` is more or less universal. In several parallel processes, get items from dataset and assemble\n",
    "them into batches (for numbers, tensors, make tensors, for other things, lists)."
   ]
  },
  {
   "cell_type": "markdown",
   "metadata": {
    "slideshow": {
     "slide_type": "slide"
    }
   },
   "source": [
    "Let's try that:"
   ]
  },
  {
   "cell_type": "code",
   "execution_count": 170,
   "metadata": {
    "slideshow": {
     "slide_type": "-"
    }
   },
   "outputs": [
    {
     "name": "stdout",
     "output_type": "stream",
     "text": [
      "tensor([[ 3.4083,  3.7974,  0.7263,  4.8858,  3.5778],\n",
      "        [ 0.6773,  1.7011,  0.9306,  2.1051,  0.1576],\n",
      "        [ 2.8493,  4.1844,  2.1523,  1.8746,  1.9833],\n",
      "        [ 0.8936,  2.1406,  2.0037,  0.5435,  3.9556],\n",
      "        [ 0.5851, -0.7038,  1.2023,  3.2975,  2.9569],\n",
      "        [ 5.8335,  3.8984,  5.7417,  4.1862,  3.3015],\n",
      "        [ 9.6398,  9.7156, 10.5315,  8.0449,  8.5333],\n",
      "        [ 3.0143,  4.5566,  5.1196,  5.6608,  4.4615]]) tensor([3, 1, 2, 1, 2, 5, 9, 5])\n"
     ]
    }
   ],
   "source": [
    "import torch.utils.data\n",
    "class DS(torch.utils.data.Dataset):\n",
    "    def __init__(self, shape):\n",
    "        self.shape = shape\n",
    "    def __len__(self):\n",
    "        return 100\n",
    "    def __getitem__(self, i):\n",
    "        return (i % 10 + torch.randn(self.shape), i % 10) # observation and label\n",
    "    \n",
    "ds = DS((5,))\n",
    "dl = torch.utils.data.DataLoader(ds, batch_size=8, shuffle=True)\n",
    "\n",
    "for inp, label in dl:\n",
    "    print(inp, label)\n",
    "    break"
   ]
  },
  {
   "cell_type": "markdown",
   "metadata": {
    "slideshow": {
     "slide_type": "slide"
    }
   },
   "source": [
    "What happened here?\n",
    "\n",
    "The DataLoader provides an iterator and for each iteration\n",
    "\n",
    "- requested elements from the dataset,\n",
    "- took the 1d `5`-tensors and `stack`ed them to a 2d `batchsize x 5` tensor,\n",
    "- took the integers and put them into a 1d `batchsize` tensor.\n",
    "- gives the tuple of input and label to the for loop.\n",
    "\n",
    "**Good to know**: If `batchsize` does not divide `len(ds)`, the last batch will be shorter. This can be troublesome (e.g. batch norm running with a batch size of 1), so you have the `drop_last` optional command to just skip this minibatch."
   ]
  },
  {
   "cell_type": "markdown",
   "metadata": {
    "slideshow": {
     "slide_type": "slide"
    }
   },
   "source": [
    "### Performance of the DataLoader\n",
    "\n",
    "Using `Dataset` / `DataLoader` is simple, but keep in mind that it can greatly impact performance.\n",
    "\n",
    "How do you detect this? If, during training, your GPU is not constantly fully used (shown by `*smi` tools), you have a CPU bottleneck somewhere, and the data loading is one thing to check.\n",
    "\n",
    "- If more cores help, there is the `num_workers` argument to the dataloader.\n",
    "- Get a SSD.\n",
    "- If you can do preprocessing beforehand (no augmentation), try that. (But careful, I/O is often more expensive than processing.)\n",
    "- If you can do preprocessing on the GPU instead (augmentation in particular), do that.\n",
    "- Sometimes it helps to put tensors into _GPU pinned memory_, with the `pin_memory` argument for the DataLoader.\n"
   ]
  },
  {
   "cell_type": "markdown",
   "metadata": {
    "slideshow": {
     "slide_type": "slide"
    }
   },
   "source": [
    "# Excursion: GPU, efficiency, measurement\n",
    "\n",
    "One of my informal mottos is _It's not optimization until you measure_. I'll only discuss the most basic measurement here, PyTorch offers a capable profiling facility, too.\n",
    "\n",
    "When you think about code being slow, it's important to figure out what is slow and why.\n",
    "To my mind, a lot of measurement can be done with very basic tools, e.g. IPython's `%timeit` magic.\n",
    "\n",
    "As GPU computation is and shold be ansynchronous, avoid unneeded synchronization points. Synchronization happens when the CPU waits for the GPU (to get the results).\n",
    "- Synchronizations can happen because the program needs to know something (e.g. sizes of tensors depending on\n",
    "    the input). Often, these are unavoidable.\n",
    "- Typical sources of spurious synchronizations are too frequent \n",
    "    `.to(device=\"cpu\")`, `.item()`, `.to_list()`, `print`.\n"
   ]
  },
  {
   "cell_type": "markdown",
   "metadata": {
    "slideshow": {
     "slide_type": "slide"
    }
   },
   "source": [
    "If we want to time GPU kernels, we want to be sure to synchronize before taking the start and end times.\n",
    "Typically, we also want to have some \"warm-up\", i.e. run the measured function before timing.\n",
    "\n",
    "Let's take the uniformity loss from [Wang and Isola: Understanding Contrastive Representation Learning through Alignment and Uniformity on the Hypersphere](https://arxiv.org/abs/2005.10242) (a great paper!).\n",
    "\n",
    "The Uniformity loss is defined as a function of the pairwise distances over a largish set of vectors.\n"
   ]
  },
  {
   "cell_type": "code",
   "execution_count": 171,
   "metadata": {
    "slideshow": {
     "slide_type": "-"
    }
   },
   "outputs": [
    {
     "data": {
      "text/plain": [
       "tensor(-3.9380, device='cuda:0', grad_fn=<LogBackward>)"
      ]
     },
     "execution_count": 171,
     "metadata": {},
     "output_type": "execute_result"
    }
   ],
   "source": [
    "def lunif(x, t=2): # copied from the paper\n",
    "    sq_pdist = torch.pdist(x, p=2).pow(2)\n",
    "    return sq_pdist.mul(-t).exp().mean().log()\n",
    "\n",
    "x = torch.randn(1024, 128, device=\"cuda\")\n",
    "x /= x.norm(p=2, dim=1, keepdim=True).requires_grad_()\n",
    "\n",
    "lunif(x)"
   ]
  },
  {
   "cell_type": "markdown",
   "metadata": {
    "slideshow": {
     "slide_type": "slide"
    }
   },
   "source": [
    "One would think that the specialised `pdist` function is the right tool for the job.\n",
    "But is it? Let's time it."
   ]
  },
  {
   "cell_type": "code",
   "execution_count": 172,
   "metadata": {
    "slideshow": {
     "slide_type": "-"
    }
   },
   "outputs": [
    {
     "name": "stdout",
     "output_type": "stream",
     "text": [
      "19.4 ms ± 126 µs per loop (mean ± std. dev. of 7 runs, 100 loops each)\n"
     ]
    }
   ],
   "source": [
    "def totime(fn):\n",
    "    l = fn(x)\n",
    "    g, = torch.autograd.grad(l, x)\n",
    "    torch.cuda.synchronize()\n",
    "\n",
    "totime(lunif) # warmup\n",
    "%timeit totime(lunif)"
   ]
  },
  {
   "cell_type": "markdown",
   "metadata": {
    "slideshow": {
     "slide_type": "slide"
    }
   },
   "source": [
    "Let's use $|x-y|^2 = |x|^2 + |y|^2 - 2 <x, y>$ and compare."
   ]
  },
  {
   "cell_type": "code",
   "execution_count": 176,
   "metadata": {
    "slideshow": {
     "slide_type": "-"
    }
   },
   "outputs": [
    {
     "name": "stdout",
     "output_type": "stream",
     "text": [
      "9.313225746154785e-10\n",
      "2.25 ms ± 5.8 µs per loop (mean ± std. dev. of 7 runs, 100 loops each)\n"
     ]
    }
   ],
   "source": [
    "def lunif2(x, t=2):\n",
    "    t=2\n",
    "    xnorm = torch.norm(x, p=2, dim=1).pow(2)\n",
    "    sq_pdist = xnorm[None] + xnorm[:, None] - 2 * torch.mm(x, x.t())\n",
    "    exp = sq_pdist.mul(-t).exp().tril(diagonal=-1)\n",
    "    N = x.size(0)\n",
    "    res = exp.sum().mul(2/(N*N-N)).log()\n",
    "    return res\n",
    "\n",
    "print((lunif2(x.to(torch.double)) - lunif(x.to(torch.double))).item())\n",
    "\n",
    "totime(lunif2)\n",
    "%timeit totime(lunif2)"
   ]
  },
  {
   "cell_type": "markdown",
   "metadata": {
    "slideshow": {
     "slide_type": "-"
    }
   },
   "source": [
    "Even though we have stark inefficiencies (like taking tril and taking a copy to do so), this is almost an order of magnitude faster!\n",
    "\n",
    "Largely due to backward of `pdist` implementation."
   ]
  },
  {
   "cell_type": "markdown",
   "metadata": {
    "slideshow": {
     "slide_type": "slide"
    }
   },
   "source": [
    "## But Python is slow...\n",
    "\n",
    "Uniformity loss: \"what formulas you use\" is the real bottleneck (unless you optimize pdist).\n",
    "\n",
    "The \"what\" typically should be the first optimization target.\n",
    "\n",
    "But when we fix the task (\"what\"), how can we optimize?\n",
    "\n",
    "Conventional wisdom: **Python is slow**\n",
    "\n",
    "- certainly, Python isn't fast (`for` loop vs C++ `for` loop)\n",
    "- but, if the GPU is saturated $\\Rightarrow$ Python isn't the bottleneck\n"
   ]
  },
  {
   "cell_type": "markdown",
   "metadata": {
    "slideshow": {
     "slide_type": "slide"
    }
   },
   "source": [
    "### How PyTorch programs spend their time\n",
    "\n",
    "At a very high level, you can divide time spent into these parts:\n",
    "- Python program flow,\n",
    "- Data \"administrative overhead\" (creating `Tensor` data structures, autograd `Node`s etc.),\n",
    "- Data aquisition (I/O),\n",
    "- Computation roughly as\n",
    "  - fixed overhead (kernel launches etc.),\n",
    "  - reading / writing memory,\n",
    "  - \"real computation\".\n",
    "\n",
    "**Thomas' rule of thumb**: As long as your operands are reasonably large (say 100s of elements, not single elements), Python and Data \"administrative overhead\" probably isn't your main problem."
   ]
  },
  {
   "cell_type": "markdown",
   "metadata": {
    "slideshow": {
     "slide_type": "slide"
    }
   },
   "source": [
    "## Optimization potentials\n",
    "\n",
    "remember that modelling does have a huge lever regarding efficiency\n",
    "\n",
    "<table>\n",
    "    <tr>\n",
    "        <td>\n",
    "Millions of parameters vs. timeline for the popular transformer models\n",
    "<img src=\"distilbert.png\" width=\"80%\" />\n",
    "        </td>\n",
    "        <td><img src=\"efficientnet_flops.png\" width=\"80%\" /></td>\n",
    "    </tr>\n",
    "    <tr><td>\n",
    "Source: V. Sanh (Huggingface), DistilBERT\n",
    "        </td><td>Source: M. Tan, Q. Le: EfficientNet: Rethinking Model Scaling for Convolutional Neural Networks</td></tr>\n",
    "\n"
   ]
  },
  {
   "cell_type": "markdown",
   "metadata": {
    "slideshow": {
     "slide_type": "slide"
    }
   },
   "source": [
    "# The PyTorch JIT\n",
    "\n",
    "So if we have our model in PyTorch. Can we export it?\n",
    "\n",
    "This is where the PyTorch Just-In-Time compiler comes into play. It provides a graphical representation \n",
    "called _TorchScript_  (used somewhat synonymously for the language and the representation).\n",
    "\n",
    "There are two main ways to get a TorchScript graph:\n",
    "- scripting and\n",
    "- tracing.\n",
    "\n",
    "We'll look at these in some detail."
   ]
  },
  {
   "cell_type": "markdown",
   "metadata": {
    "slideshow": {
     "slide_type": "slide"
    }
   },
   "source": [
    "## Scripting\n",
    "\n",
    "Scripting compiles (mostly) a subset of Python.\n",
    "It takes the Python source code and transforms it. \n",
    "\"Here is what the function should do\", just like normal programming.\n"
   ]
  },
  {
   "cell_type": "code",
   "execution_count": 177,
   "metadata": {
    "slideshow": {
     "slide_type": "-"
    }
   },
   "outputs": [],
   "source": [
    "@torch.jit.script\n",
    "def fn(x):\n",
    "    return x * 2"
   ]
  },
  {
   "cell_type": "code",
   "execution_count": 180,
   "metadata": {},
   "outputs": [
    {
     "data": {
      "text/plain": [
       "(<torch.jit.ScriptFunction at 0x7f71c455eef0>,\n",
       " graph(%x.1 : Tensor):\n",
       "   %2 : int = prim::Constant[value=2]() # <ipython-input-177-6dcc6c3c1c8e>:3:15\n",
       "   %3 : Tensor = aten::mul(%x.1, %2) # <ipython-input-177-6dcc6c3c1c8e>:3:11\n",
       "   return (%3))"
      ]
     },
     "execution_count": 180,
     "metadata": {},
     "output_type": "execute_result"
    }
   ],
   "source": [
    "fn, fn.graph"
   ]
  },
  {
   "cell_type": "markdown",
   "metadata": {
    "slideshow": {
     "slide_type": "slide"
    }
   },
   "source": [
    "### Tracing\n",
    "\n",
    "Tracing runs the code and observers the calls into PyTorch with some sample input.\n",
    "\"Watch me, now you know how to do the same.\""
   ]
  },
  {
   "cell_type": "code",
   "execution_count": 182,
   "metadata": {
    "slideshow": {
     "slide_type": "-"
    }
   },
   "outputs": [
    {
     "name": "stdout",
     "output_type": "stream",
     "text": [
      "graph(%x : Float(5:1)):\n",
      "  %1 : Long() = prim::Constant[value={2}]() # <ipython-input-182-7d43d0af2e80>:2:0\n",
      "  %2 : Float(5:1) = aten::mul(%x, %1) # <ipython-input-182-7d43d0af2e80>:2:0\n",
      "  return (%2)\n",
      " def fn(x: Tensor) -> Tensor:\n",
      "  return torch.mul(x, CONSTANTS.c0)\n",
      "\n"
     ]
    }
   ],
   "source": [
    "def fn(x):\n",
    "    return x * 2\n",
    "fn = torch.jit.trace(fn, [torch.randn(5)])\n",
    "\n",
    "print(fn.graph, fn.code)"
   ]
  },
  {
   "cell_type": "markdown",
   "metadata": {
    "slideshow": {
     "slide_type": "-"
    }
   },
   "source": [
    "N.B.: The specialization for the Tensor shape isn't relevant here and will be erased e.g. during saving of the model."
   ]
  },
  {
   "cell_type": "markdown",
   "metadata": {
    "slideshow": {
     "slide_type": "slide"
    }
   },
   "source": [
    "### TorchScript\n",
    "\n",
    "One important difference between TorchScript and Python is that in TorchScript everything is typed. Important\n",
    "types are\n",
    "- `bool`, `int`, `long`, `double` for numbers (int = 32 bit integer, long = 64 bit integer)\n",
    "- `Tensor` for tensors (of arbitrary shape, dtype, ...)\n",
    "- `List[T]` a list with elements fo type T (one of the above)\n",
    "- Tuples are of fixed size with arbitrary but fixed element type, so e.g. `Tuple(Tensor, int)`.\n",
    "- `Optional[T]` for things that can be `None`\n",
    "\n",
    "`None` always is of type `Optional[T]` for some specific `T` (except in the rarest circumstances).\n",
    "\n",
    "PyTorch will mostly infer the intermediate and return types, but you need to annotate any non-Tensor inputs."
   ]
  },
  {
   "cell_type": "markdown",
   "metadata": {
    "slideshow": {
     "slide_type": "slide"
    }
   },
   "source": [
    "### Tracing vs. Scripting\n",
    "\n",
    "Scripting will process all code but may not understand all. This means it captures all constructs (like control flow) it understands, but it will fail if it doesn't understand something.\n",
    "\n",
    "Tracing doesn't see anything not calling into PyTorch and will happily ignore that (e.g. control flow). This is also the reason why it will loudly complain if you have non-tensor inputs.\n"
   ]
  },
  {
   "cell_type": "code",
   "execution_count": 183,
   "metadata": {
    "slideshow": {
     "slide_type": "-"
    }
   },
   "outputs": [],
   "source": [
    "def fn(x):\n",
    "    for i in range(x.dim()):\n",
    "        x = x * x\n",
    "    return x\n",
    "\n",
    "script_fn = torch.jit.script(fn)\n",
    "trace_fn = torch.jit.trace(fn, [torch.randn(5, 5)])"
   ]
  },
  {
   "cell_type": "code",
   "execution_count": 59,
   "metadata": {
    "slideshow": {
     "slide_type": "slide"
    }
   },
   "outputs": [
    {
     "name": "stdout",
     "output_type": "stream",
     "text": [
      "def fn(x: Tensor) -> Tensor:\n",
      "  x0 = x\n",
      "  for i in range(torch.dim(x)):\n",
      "    x0 = torch.mul(x0, x0)\n",
      "  return x0\n",
      "\n"
     ]
    }
   ],
   "source": [
    "print(script_fn.code)"
   ]
  },
  {
   "cell_type": "code",
   "execution_count": 60,
   "metadata": {
    "slideshow": {
     "slide_type": "-"
    }
   },
   "outputs": [
    {
     "name": "stdout",
     "output_type": "stream",
     "text": [
      "def fn(x: Tensor) -> Tensor:\n",
      "  x0 = torch.mul(x, x)\n",
      "  return torch.mul(x0, x0)\n",
      "\n"
     ]
    }
   ],
   "source": [
    "print(trace_fn.code)"
   ]
  },
  {
   "cell_type": "markdown",
   "metadata": {
    "slideshow": {
     "slide_type": "slide"
    }
   },
   "source": [
    "## Tracing and Scripting Modules\n",
    "\n",
    "But our models often are not functions. What now?\n",
    "\n",
    "With tracing, we can work just like with functions. We get a `ScriptModule` subclass that behaves much like a\n",
    "`Module` with parameters, state dict etc."
   ]
  },
  {
   "cell_type": "code",
   "execution_count": 61,
   "metadata": {},
   "outputs": [
    {
     "data": {
      "text/plain": [
       "(torch.jit._trace.TopLevelTracedModule,\n",
       " Sequential(\n",
       "   original_name=Sequential\n",
       "   (0): Linear(original_name=Linear)\n",
       "   (1): Tanh(original_name=Tanh)\n",
       "   (2): Linear(original_name=Linear)\n",
       " ))"
      ]
     },
     "execution_count": 61,
     "metadata": {},
     "output_type": "execute_result"
    }
   ],
   "source": [
    "traced_model = torch.jit.trace(model, [torch.randn(8, 1)])\n",
    "type(traced_model), traced_model"
   ]
  },
  {
   "cell_type": "markdown",
   "metadata": {
    "slideshow": {
     "slide_type": "slide"
    }
   },
   "source": [
    "Saving is a bit different, here we include the model on purpose:"
   ]
  },
  {
   "cell_type": "code",
   "execution_count": 185,
   "metadata": {},
   "outputs": [
    {
     "data": {
      "text/plain": [
       "tensor([[ 0.7854],\n",
       "        [ 0.4316],\n",
       "        [-0.5573],\n",
       "        [-0.5755],\n",
       "        [-0.6280],\n",
       "        [-0.7519],\n",
       "        [ 0.7915],\n",
       "        [ 0.1078]], grad_fn=<DifferentiableGraphBackward>)"
      ]
     },
     "execution_count": 185,
     "metadata": {},
     "output_type": "execute_result"
    }
   ],
   "source": [
    "traced_model.save('./traced_model.pt')\n",
    "loaded_model = torch.jit.load('./traced_model.pt')\n",
    "\n",
    "loaded_model(torch.randn(8,1))"
   ]
  },
  {
   "cell_type": "markdown",
   "metadata": {
    "slideshow": {
     "slide_type": "slide"
    }
   },
   "source": [
    "# Scripting Modules\n",
    "\n",
    "Scripting modules is ... a bit tricky. We don't script the class in its entirety but instead take an instance (in particular past `__init__`) and process its data members and methods (the latters work like script functions)."
   ]
  },
  {
   "cell_type": "code",
   "execution_count": 63,
   "metadata": {},
   "outputs": [
    {
     "name": "stdout",
     "output_type": "stream",
     "text": [
      "def forward(self,\n",
      "    input: Tensor) -> Tensor:\n",
      "  _0 = getattr(self, \"0\")\n",
      "  _1 = getattr(self, \"1\")\n",
      "  _2 = getattr(self, \"2\")\n",
      "  input0 = (_0).forward(input, )\n",
      "  input1 = (_1).forward(input0, )\n",
      "  return (_2).forward(input1, )\n",
      "\n"
     ]
    }
   ],
   "source": [
    "scripted_model = torch.jit.script(model)\n",
    "print(scripted_model.code)"
   ]
  },
  {
   "cell_type": "markdown",
   "metadata": {
    "slideshow": {
     "slide_type": "slide"
    }
   },
   "source": [
    "We can also look at the graph including submodules, but it gets unwieldy rather fast:"
   ]
  },
  {
   "cell_type": "code",
   "execution_count": 64,
   "metadata": {},
   "outputs": [
    {
     "data": {
      "text/plain": [
       "graph(%self : __torch__.torch.nn.modules.container.___torch_mangle_13.Sequential,\n",
       "      %input.1 : Tensor):\n",
       "  %2 : __torch__.torch.nn.modules.linear.___torch_mangle_10.Linear = prim::GetAttr[name=\"0\"](%self)\n",
       "  %3 : __torch__.torch.nn.modules.activation.___torch_mangle_11.Tanh = prim::GetAttr[name=\"1\"](%self)\n",
       "  %4 : __torch__.torch.nn.modules.linear.___torch_mangle_12.Linear = prim::GetAttr[name=\"2\"](%self)\n",
       "  %8 : int = prim::Constant[value=1]()\n",
       "  %9 : int = prim::Constant[value=2]() # /usr/local/lib/python3.8/dist-packages/torch/nn/functional.py:1672:22\n",
       "  %10 : Tensor = prim::GetAttr[name=\"weight\"](%2)\n",
       "  %11 : Tensor = prim::GetAttr[name=\"bias\"](%2)\n",
       "  %12 : int = aten::dim(%input.1) # /usr/local/lib/python3.8/dist-packages/torch/nn/functional.py:1672:7\n",
       "  %13 : bool = aten::eq(%12, %9) # /usr/local/lib/python3.8/dist-packages/torch/nn/functional.py:1672:7\n",
       "  %input.3 : Tensor = prim::If(%13) # /usr/local/lib/python3.8/dist-packages/torch/nn/functional.py:1672:4\n",
       "    block0():\n",
       "      %15 : Tensor = aten::t(%10) # /usr/local/lib/python3.8/dist-packages/torch/nn/functional.py:1674:39\n",
       "      %ret.2 : Tensor = aten::addmm(%11, %input.1, %15, %8, %8) # /usr/local/lib/python3.8/dist-packages/torch/nn/functional.py:1674:14\n",
       "      -> (%ret.2)\n",
       "    block1():\n",
       "      %17 : Tensor = aten::t(%10) # /usr/local/lib/python3.8/dist-packages/torch/nn/functional.py:1676:30\n",
       "      %output.2 : Tensor = aten::matmul(%input.1, %17) # /usr/local/lib/python3.8/dist-packages/torch/nn/functional.py:1676:17\n",
       "      %output.4 : Tensor = aten::add_(%output.2, %11, %8) # /usr/local/lib/python3.8/dist-packages/torch/nn/functional.py:1678:12\n",
       "      -> (%output.4)\n",
       "  %input.5 : Tensor = aten::tanh(%input.3) # /usr/local/lib/python3.8/dist-packages/torch/nn/modules/activation.py:350:15\n",
       "  %21 : int = prim::Constant[value=1]()\n",
       "  %22 : int = prim::Constant[value=2]() # /usr/local/lib/python3.8/dist-packages/torch/nn/functional.py:1672:22\n",
       "  %23 : Tensor = prim::GetAttr[name=\"weight\"](%4)\n",
       "  %24 : Tensor = prim::GetAttr[name=\"bias\"](%4)\n",
       "  %25 : int = aten::dim(%input.5) # /usr/local/lib/python3.8/dist-packages/torch/nn/functional.py:1672:7\n",
       "  %26 : bool = aten::eq(%25, %22) # /usr/local/lib/python3.8/dist-packages/torch/nn/functional.py:1672:7\n",
       "  %input.7 : Tensor = prim::If(%26) # /usr/local/lib/python3.8/dist-packages/torch/nn/functional.py:1672:4\n",
       "    block0():\n",
       "      %28 : Tensor = aten::t(%23) # /usr/local/lib/python3.8/dist-packages/torch/nn/functional.py:1674:39\n",
       "      %ret.1 : Tensor = aten::addmm(%24, %input.5, %28, %21, %21) # /usr/local/lib/python3.8/dist-packages/torch/nn/functional.py:1674:14\n",
       "      -> (%ret.1)\n",
       "    block1():\n",
       "      %30 : Tensor = aten::t(%23) # /usr/local/lib/python3.8/dist-packages/torch/nn/functional.py:1676:30\n",
       "      %output.1 : Tensor = aten::matmul(%input.5, %30) # /usr/local/lib/python3.8/dist-packages/torch/nn/functional.py:1676:17\n",
       "      %output.3 : Tensor = aten::add_(%output.1, %24, %21) # /usr/local/lib/python3.8/dist-packages/torch/nn/functional.py:1678:12\n",
       "      -> (%output.3)\n",
       "  return (%input.7)"
      ]
     },
     "execution_count": 64,
     "metadata": {},
     "output_type": "execute_result"
    }
   ],
   "source": [
    "scripted_model.forward.inlined_graph"
   ]
  },
  {
   "cell_type": "markdown",
   "metadata": {
    "slideshow": {
     "slide_type": "slide"
    }
   },
   "source": [
    "# What can you do with scripted modules?\n",
    "\n",
    "- Run them as is, bypassing Python.\n",
    "  - not as much speedup as often is expected (maybe 5%-10% for some models I tested),\n",
    "  - but - sometimes crucially - it avoids the dreaded Python Global Interpreter Lock (GIL), so it is useful e.g.\n",
    "    for multithreaded things like serving PyTorch models.\n",
    "- Export and run in C++ / Mobile / ..., export to other frameworks like [TVM](https://tvm.ai/).\n",
    "- Apply holistic optimizations (this is what a submodule, the JIT fuser does)."
   ]
  },
  {
   "cell_type": "markdown",
   "metadata": {
    "slideshow": {
     "slide_type": "slide"
    }
   },
   "source": [
    "## Holistic Optimizations - JIT fusers\n",
    "\n",
    "So currently the fuser is a hotspot of development, look at the competition. We'll use `fuser0` here."
   ]
  },
  {
   "cell_type": "code",
   "execution_count": 65,
   "metadata": {
    "slideshow": {
     "slide_type": "-"
    }
   },
   "outputs": [
    {
     "name": "stdout",
     "output_type": "stream",
     "text": [
      "Help on function fuser in module torch.jit:\n",
      "\n",
      "fuser(name)\n",
      "    A context manager that facilitates switching between\n",
      "    backend fusers.\n",
      "    \n",
      "    Valid names:\n",
      "    * ``fuser0`` - enables only legacy fuser\n",
      "    * ``fuser1`` - enables only NNC\n",
      "    * ``fuser2`` - enables only nvFuser\n",
      "\n"
     ]
    }
   ],
   "source": [
    "help(torch.jit.fuser)"
   ]
  },
  {
   "cell_type": "markdown",
   "metadata": {
    "slideshow": {
     "slide_type": "slide"
    }
   },
   "source": [
    "# Example: Intersection over Union loss\n",
    "\n",
    "\n",
    "<img src=\"iou.svg\" style=\"float: right;\" />\n",
    "\n",
    "...for detection models.\n",
    "\n",
    "Many elementwise operations. Usually PyTorch executes them one by one, reading input from memory and writing back outputs.\n",
    "\n",
    "By fusing this into a single GPU kernel, we can save all that."
   ]
  },
  {
   "cell_type": "code",
   "execution_count": 186,
   "metadata": {
    "slideshow": {
     "slide_type": "-"
    }
   },
   "outputs": [],
   "source": [
    "def ratio_iou(x1, y1, w1, h1, x2, y2, w2, h2):\n",
    "    xi = torch.max(x1, x2)                                # Intersection (yi similarly)\n",
    "    yi = torch.max(y1, y2)                                # Intersection (yi similarly)\n",
    "    wi = torch.clamp(torch.min(x1+w1, x2+w2) - xi, min=0)\n",
    "    hi = torch.clamp(torch.min(y1+h1, y2+h2) - yi, min=0)\n",
    "    area_i = wi * hi                                      # Area Intersection\n",
    "    area_u = w1 * h1 + w2 * h2 - wi * hi                  # Area Union\n",
    "    return area_i / torch.clamp(area_u, min=1e-5)\n",
    "\n",
    "ratio_iou_scripted = torch.jit.script(ratio_iou)"
   ]
  },
  {
   "cell_type": "markdown",
   "metadata": {
    "slideshow": {
     "slide_type": "slide"
    }
   },
   "source": [
    "This gives us a good speedup:"
   ]
  },
  {
   "cell_type": "code",
   "execution_count": 187,
   "metadata": {
    "slideshow": {
     "slide_type": "-"
    }
   },
   "outputs": [
    {
     "name": "stdout",
     "output_type": "stream",
     "text": [
      "178 µs ± 265 ns per loop (mean ± std. dev. of 7 runs, 10000 loops each)\n",
      "39.6 µs ± 478 ns per loop (mean ± std. dev. of 7 runs, 10000 loops each)\n"
     ]
    }
   ],
   "source": [
    "x1, y1, w1, h1, x2, y2, w2, h2 = torch.randn(8, 100, 1000, device='cuda').exp()\n",
    "\n",
    "def take_time(fn):\n",
    "    _ = fn(x1, y1, w1, h1, x2, y2, w2, h2)\n",
    "    torch.cuda.synchronize()\n",
    "\n",
    "take_time(ratio_iou) # warmup\n",
    "%timeit take_time(ratio_iou)\n",
    "\n",
    "\n",
    "take_time(ratio_iou_scripted)\n",
    "%timeit take_time(ratio_iou_scripted)"
   ]
  },
  {
   "cell_type": "markdown",
   "metadata": {
    "slideshow": {
     "slide_type": "slide"
    }
   },
   "source": [
    "We can see in the graph specialised for the inputs which operations are fused:"
   ]
  },
  {
   "cell_type": "code",
   "execution_count": 189,
   "metadata": {
    "slideshow": {
     "slide_type": "-"
    }
   },
   "outputs": [
    {
     "data": {
      "text/plain": [
       "graph(%x1.1 : Float(*, *),\n",
       "      %y1.1 : Float(*, *),\n",
       "      %w1.1 : Float(*, *),\n",
       "      %h1.1 : Float(*, *),\n",
       "      %x2.1 : Float(*, *),\n",
       "      %y2.1 : Float(*, *),\n",
       "      %w2.1 : Float(*, *),\n",
       "      %h2.1 : Float(*, *)):\n",
       "  %32 : Float(*, *) = prim::FusionGroup_0(%w2.1, %h2.1, %w1.1, %h1.1, %y2.1, %y1.1, %x2.1, %x1.1)\n",
       "  return (%32)\n",
       "with prim::FusionGroup_0 = graph(%14 : Float(*, *),\n",
       "      %15 : Float(*, *),\n",
       "      %17 : Float(*, *),\n",
       "      %18 : Float(*, *),\n",
       "      %34 : Float(*, *),\n",
       "      %37 : Float(*, *),\n",
       "      %51 : Float(*, *),\n",
       "      %54 : Float(*, *)):\n",
       "  %4 : float = prim::Constant[value=1.0000000000000001e-05]() # <ipython-input-186-5fb00890f03c>:8:44\n",
       "  %42 : None = prim::Constant()\n",
       "  %41 : int = prim::Constant[value=0]() # <ipython-input-186-5fb00890f03c>:4:55\n",
       "  %55 : int = prim::Constant[value=1]()\n",
       "  %xi.1 : Float(*, *) = aten::max(%54, %51) # <ipython-input-186-5fb00890f03c>:2:9\n",
       "  %yi.1 : Float(*, *) = aten::max(%37, %34) # <ipython-input-186-5fb00890f03c>:3:9\n",
       "  %56 : Float(*, *) = aten::add(%54, %17, %55) # <ipython-input-186-5fb00890f03c>:4:31\n",
       "  %53 : Float(*, *) = aten::add(%51, %14, %55) # <ipython-input-186-5fb00890f03c>:4:38\n",
       "  %50 : Float(*, *) = aten::min(%56, %53) # <ipython-input-186-5fb00890f03c>:4:21\n",
       "  %47 : Float(*, *) = aten::sub(%50, %xi.1, %55) # <ipython-input-186-5fb00890f03c>:4:21\n",
       "  %wi.1 : Float(*, *) = aten::clamp(%47, %41, %42) # <ipython-input-186-5fb00890f03c>:4:9\n",
       "  %39 : Float(*, *) = aten::add(%37, %18, %55) # <ipython-input-186-5fb00890f03c>:5:31\n",
       "  %36 : Float(*, *) = aten::add(%34, %15, %55) # <ipython-input-186-5fb00890f03c>:5:38\n",
       "  %33 : Float(*, *) = aten::min(%39, %36) # <ipython-input-186-5fb00890f03c>:5:21\n",
       "  %30 : Float(*, *) = aten::sub(%33, %yi.1, %55) # <ipython-input-186-5fb00890f03c>:5:21\n",
       "  %hi.1 : Float(*, *) = aten::clamp(%30, %41, %42) # <ipython-input-186-5fb00890f03c>:5:9\n",
       "  %area_i.1 : Float(*, *) = aten::mul(%wi.1, %hi.1) # <ipython-input-186-5fb00890f03c>:6:13\n",
       "  %19 : Float(*, *) = aten::mul(%17, %18) # <ipython-input-186-5fb00890f03c>:7:13\n",
       "  %16 : Float(*, *) = aten::mul(%14, %15) # <ipython-input-186-5fb00890f03c>:7:23\n",
       "  %13 : Float(*, *) = aten::add(%19, %16, %55) # <ipython-input-186-5fb00890f03c>:7:13\n",
       "  %area_u.1 : Float(*, *) = aten::sub(%13, %area_i.1, %55) # <ipython-input-186-5fb00890f03c>:7:13\n",
       "  %6 : Float(*, *) = aten::clamp(%area_u.1, %4, %42) # <ipython-input-186-5fb00890f03c>:8:20\n",
       "  %2 : Float(*, *) = aten::div(%area_i.1, %6) # <ipython-input-186-5fb00890f03c>:8:11\n",
       "  return (%2)"
      ]
     },
     "execution_count": 189,
     "metadata": {},
     "output_type": "execute_result"
    }
   ],
   "source": [
    "ratio_iou_scripted.graph_for(x1, y1, w1, h1, x2, y2, w2, h2)"
   ]
  },
  {
   "cell_type": "markdown",
   "metadata": {
    "slideshow": {
     "slide_type": "slide"
    }
   },
   "source": [
    "# PyTorch is ... Pythonic, but not Python only\n",
    "\n",
    "\n",
    "<img src=\"Ch15_F4_PyTorch_calling_pytorch.svg\" style=\"float: right;\"/>\n",
    "\n",
    "When we looked at _PyTorch is functions_, we actually conflated PyTorch the interface and PyTorch the backend.\n",
    "\n",
    "The JIT was another way of accessing the backend.\n",
    "\n",
    "Looking closer, we have `libtorch` (the C++-implemented autograd-enabled backend) calling down into `ATen` for tensor operations and there the dispatching to ATen's own kernels or libraries.\n",
    "\n"
   ]
  },
  {
   "cell_type": "markdown",
   "metadata": {
    "slideshow": {
     "slide_type": "slide"
    }
   },
   "source": [
    "## Beyond Python\n",
    "\n",
    "\n",
    "<img src=\"Ch15_F5_PyTorch_zebra_app.png\" style=\"width: 20%; float: right;\"/>\n",
    "\n",
    "We can also run our JITed models from C++ in a few lines of code or on mobile.\n",
    "\n",
    "The picture shows a CycleGAN running on PyTorch Mobile (from Chapter 15 of our book).\n",
    "\n",
    "We also cover C++ there, but not now."
   ]
  },
  {
   "cell_type": "markdown",
   "metadata": {
    "slideshow": {
     "slide_type": "slide"
    }
   },
   "source": [
    "# PyTorch is ... much more\n",
    "\n",
    "We skipped `torch.distributions`, `distributed`, automatic mixed precision and more PyTorch has to offer. Check out the tutorials on PyTorch.org.\n",
    "\n",
    "## Forums\n",
    "\n",
    "Forums at [discuss.pytorch.org](https://discuss.pytorch.org/) probably are the best source of casual help, with a number of core developers also keeping an eye for the advanced questions. (I'm @tom there.)\n",
    "\n",
    "## Wider Ecosystem\n",
    "\n",
    "Libraries for many classes of models building on PyTorch (not complete)\n",
    "\n",
    "- Immediate \"Satellites\" like TorchVision, TorchAudio, TorchText, TorchServing\n",
    "- Extending capabilities: PyTorch-NLP, Graph NNs, Gaussian Processes, Pyro (Probabilistic)\n",
    "- Training helpers"
   ]
  },
  {
   "cell_type": "markdown",
   "metadata": {
    "slideshow": {
     "slide_type": "slide"
    }
   },
   "source": [
    "<center><img alt=\"Thank you\" src=\"thank_you.svg\" width=80% /></center>\n",
    "\n",
    "<center><img alt=\"Your questions and comments\" src=\"your_questions_and_comments.svg\" width=80%/></center>\n",
    "\n",
    "[Graves style Handwriting in PyTorch](https://github.com/t-vi/pytorch-tvmisc/blob/master/misc/graves_handwriting_generation.ipynb)\n",
    "\n",
    "# Contact: Thomas Viehmann <tv@mathinf.eu>\n",
    "\n"
   ]
  },
  {
   "cell_type": "code",
   "execution_count": null,
   "metadata": {},
   "outputs": [],
   "source": []
  }
 ],
 "metadata": {
  "accelerator": "GPU",
  "celltoolbar": "Slideshow",
  "kernelspec": {
   "display_name": "Python 3",
   "language": "python",
   "name": "python3"
  },
  "language_info": {
   "codemirror_mode": {
    "name": "ipython",
    "version": 3
   },
   "file_extension": ".py",
   "mimetype": "text/x-python",
   "name": "python",
   "nbconvert_exporter": "python",
   "pygments_lexer": "ipython3",
   "version": "3.8.3"
  },
  "rise": {
   "header": "<img id='mathinf-logo-header' src='mathinf_logo.png' />",
   "theme": "white",
   "transition": "off"
  }
 },
 "nbformat": 4,
 "nbformat_minor": 4
}
